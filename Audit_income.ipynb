{
  "cells": [
    {
      "cell_type": "code",
      "execution_count": 1,
      "metadata": {
        "id": "WtBPh7pRsbkj"
      },
      "outputs": [],
      "source": [
        "import pandas as pd\n",
        "import numpy as np\n",
        "import matplotlib.pyplot as plt\n",
        "import seaborn as sns\n",
        "%matplotlib inline"
      ]
    },
    {
      "cell_type": "code",
      "execution_count": 2,
      "metadata": {
        "colab": {
          "base_uri": "https://localhost:8080/",
          "height": 424
        },
        "id": "cFgwVmWWvSpI",
        "outputId": "ecae4ecc-f384-4cff-e521-f420cc3be119"
      },
      "outputs": [
        {
          "data": {
            "text/html": [
              "<div>\n",
              "<style scoped>\n",
              "    .dataframe tbody tr th:only-of-type {\n",
              "        vertical-align: middle;\n",
              "    }\n",
              "\n",
              "    .dataframe tbody tr th {\n",
              "        vertical-align: top;\n",
              "    }\n",
              "\n",
              "    .dataframe thead th {\n",
              "        text-align: right;\n",
              "    }\n",
              "</style>\n",
              "<table border=\"1\" class=\"dataframe\">\n",
              "  <thead>\n",
              "    <tr style=\"text-align: right;\">\n",
              "      <th></th>\n",
              "      <th>age</th>\n",
              "      <th>workclass</th>\n",
              "      <th>fnlwgt</th>\n",
              "      <th>education</th>\n",
              "      <th>education-num</th>\n",
              "      <th>marital-status</th>\n",
              "      <th>occupation</th>\n",
              "      <th>relationship</th>\n",
              "      <th>race</th>\n",
              "      <th>sex</th>\n",
              "      <th>capital-gain</th>\n",
              "      <th>capital-loss</th>\n",
              "      <th>hours-per-week</th>\n",
              "      <th>country</th>\n",
              "      <th>salary</th>\n",
              "    </tr>\n",
              "  </thead>\n",
              "  <tbody>\n",
              "    <tr>\n",
              "      <th>0</th>\n",
              "      <td>39</td>\n",
              "      <td>State-gov</td>\n",
              "      <td>77516</td>\n",
              "      <td>Bachelors</td>\n",
              "      <td>13</td>\n",
              "      <td>Never-married</td>\n",
              "      <td>Adm-clerical</td>\n",
              "      <td>Not-in-family</td>\n",
              "      <td>White</td>\n",
              "      <td>Male</td>\n",
              "      <td>2174</td>\n",
              "      <td>0</td>\n",
              "      <td>40</td>\n",
              "      <td>United-States</td>\n",
              "      <td>&lt;=50K</td>\n",
              "    </tr>\n",
              "    <tr>\n",
              "      <th>1</th>\n",
              "      <td>50</td>\n",
              "      <td>Self-emp-not-inc</td>\n",
              "      <td>83311</td>\n",
              "      <td>Bachelors</td>\n",
              "      <td>13</td>\n",
              "      <td>Married-civ-spouse</td>\n",
              "      <td>Exec-managerial</td>\n",
              "      <td>Husband</td>\n",
              "      <td>White</td>\n",
              "      <td>Male</td>\n",
              "      <td>0</td>\n",
              "      <td>0</td>\n",
              "      <td>13</td>\n",
              "      <td>United-States</td>\n",
              "      <td>&lt;=50K</td>\n",
              "    </tr>\n",
              "    <tr>\n",
              "      <th>2</th>\n",
              "      <td>38</td>\n",
              "      <td>Private</td>\n",
              "      <td>215646</td>\n",
              "      <td>HS-grad</td>\n",
              "      <td>9</td>\n",
              "      <td>Divorced</td>\n",
              "      <td>Handlers-cleaners</td>\n",
              "      <td>Not-in-family</td>\n",
              "      <td>White</td>\n",
              "      <td>Male</td>\n",
              "      <td>0</td>\n",
              "      <td>0</td>\n",
              "      <td>40</td>\n",
              "      <td>United-States</td>\n",
              "      <td>&lt;=50K</td>\n",
              "    </tr>\n",
              "    <tr>\n",
              "      <th>3</th>\n",
              "      <td>53</td>\n",
              "      <td>Private</td>\n",
              "      <td>234721</td>\n",
              "      <td>11th</td>\n",
              "      <td>7</td>\n",
              "      <td>Married-civ-spouse</td>\n",
              "      <td>Handlers-cleaners</td>\n",
              "      <td>Husband</td>\n",
              "      <td>Black</td>\n",
              "      <td>Male</td>\n",
              "      <td>0</td>\n",
              "      <td>0</td>\n",
              "      <td>40</td>\n",
              "      <td>United-States</td>\n",
              "      <td>&lt;=50K</td>\n",
              "    </tr>\n",
              "    <tr>\n",
              "      <th>4</th>\n",
              "      <td>28</td>\n",
              "      <td>Private</td>\n",
              "      <td>338409</td>\n",
              "      <td>Bachelors</td>\n",
              "      <td>13</td>\n",
              "      <td>Married-civ-spouse</td>\n",
              "      <td>Prof-specialty</td>\n",
              "      <td>Wife</td>\n",
              "      <td>Black</td>\n",
              "      <td>Female</td>\n",
              "      <td>0</td>\n",
              "      <td>0</td>\n",
              "      <td>40</td>\n",
              "      <td>Cuba</td>\n",
              "      <td>&lt;=50K</td>\n",
              "    </tr>\n",
              "  </tbody>\n",
              "</table>\n",
              "</div>"
            ],
            "text/plain": [
              "   age          workclass  fnlwgt   education  education-num  \\\n",
              "0   39          State-gov   77516   Bachelors             13   \n",
              "1   50   Self-emp-not-inc   83311   Bachelors             13   \n",
              "2   38            Private  215646     HS-grad              9   \n",
              "3   53            Private  234721        11th              7   \n",
              "4   28            Private  338409   Bachelors             13   \n",
              "\n",
              "        marital-status          occupation    relationship    race      sex  \\\n",
              "0        Never-married        Adm-clerical   Not-in-family   White     Male   \n",
              "1   Married-civ-spouse     Exec-managerial         Husband   White     Male   \n",
              "2             Divorced   Handlers-cleaners   Not-in-family   White     Male   \n",
              "3   Married-civ-spouse   Handlers-cleaners         Husband   Black     Male   \n",
              "4   Married-civ-spouse      Prof-specialty            Wife   Black   Female   \n",
              "\n",
              "   capital-gain  capital-loss  hours-per-week         country  salary  \n",
              "0          2174             0              40   United-States   <=50K  \n",
              "1             0             0              13   United-States   <=50K  \n",
              "2             0             0              40   United-States   <=50K  \n",
              "3             0             0              40   United-States   <=50K  \n",
              "4             0             0              40            Cuba   <=50K  "
            ]
          },
          "execution_count": 2,
          "metadata": {},
          "output_type": "execute_result"
        }
      ],
      "source": [
        "data=pd.read_csv(\"adult.csv\")\n",
        "data.head()"
      ]
    },
    {
      "cell_type": "code",
      "execution_count": 3,
      "metadata": {
        "colab": {
          "base_uri": "https://localhost:8080/"
        },
        "id": "-UDVd2tvvSmh",
        "outputId": "361e441d-776b-4d60-b140-a5b8c5b1678b"
      },
      "outputs": [
        {
          "data": {
            "text/plain": [
              "age               0\n",
              "workclass         0\n",
              "fnlwgt            0\n",
              "education         0\n",
              "education-num     0\n",
              "marital-status    0\n",
              "occupation        0\n",
              "relationship      0\n",
              "race              0\n",
              "sex               0\n",
              "capital-gain      0\n",
              "capital-loss      0\n",
              "hours-per-week    0\n",
              "country           0\n",
              "salary            0\n",
              "dtype: int64"
            ]
          },
          "execution_count": 3,
          "metadata": {},
          "output_type": "execute_result"
        }
      ],
      "source": [
        "data.isnull().sum()"
      ]
    },
    {
      "cell_type": "code",
      "execution_count": 4,
      "metadata": {
        "colab": {
          "base_uri": "https://localhost:8080/"
        },
        "id": "pBdLuRgCvSjp",
        "outputId": "12f73788-86af-42fc-eb14-ad4947ff5c28"
      },
      "outputs": [
        {
          "name": "stdout",
          "output_type": "stream",
          "text": [
            "<class 'pandas.core.frame.DataFrame'>\n",
            "RangeIndex: 32561 entries, 0 to 32560\n",
            "Data columns (total 15 columns):\n",
            " #   Column          Non-Null Count  Dtype \n",
            "---  ------          --------------  ----- \n",
            " 0   age             32561 non-null  int64 \n",
            " 1   workclass       32561 non-null  object\n",
            " 2   fnlwgt          32561 non-null  int64 \n",
            " 3   education       32561 non-null  object\n",
            " 4   education-num   32561 non-null  int64 \n",
            " 5   marital-status  32561 non-null  object\n",
            " 6   occupation      32561 non-null  object\n",
            " 7   relationship    32561 non-null  object\n",
            " 8   race            32561 non-null  object\n",
            " 9   sex             32561 non-null  object\n",
            " 10  capital-gain    32561 non-null  int64 \n",
            " 11  capital-loss    32561 non-null  int64 \n",
            " 12  hours-per-week  32561 non-null  int64 \n",
            " 13  country         32561 non-null  object\n",
            " 14  salary          32561 non-null  object\n",
            "dtypes: int64(6), object(9)\n",
            "memory usage: 3.7+ MB\n"
          ]
        }
      ],
      "source": [
        "data.info()"
      ]
    },
    {
      "cell_type": "code",
      "execution_count": 5,
      "metadata": {
        "colab": {
          "base_uri": "https://localhost:8080/",
          "height": 424
        },
        "id": "5Du6UlXMvSgr",
        "outputId": "3e045bd5-4c13-4665-b141-bf67fe26fbb6"
      },
      "outputs": [
        {
          "data": {
            "text/html": [
              "<div>\n",
              "<style scoped>\n",
              "    .dataframe tbody tr th:only-of-type {\n",
              "        vertical-align: middle;\n",
              "    }\n",
              "\n",
              "    .dataframe tbody tr th {\n",
              "        vertical-align: top;\n",
              "    }\n",
              "\n",
              "    .dataframe thead th {\n",
              "        text-align: right;\n",
              "    }\n",
              "</style>\n",
              "<table border=\"1\" class=\"dataframe\">\n",
              "  <thead>\n",
              "    <tr style=\"text-align: right;\">\n",
              "      <th></th>\n",
              "      <th>age</th>\n",
              "      <th>workclass</th>\n",
              "      <th>fnlwgt</th>\n",
              "      <th>education</th>\n",
              "      <th>education-num</th>\n",
              "      <th>marital-status</th>\n",
              "      <th>occupation</th>\n",
              "      <th>relationship</th>\n",
              "      <th>race</th>\n",
              "      <th>sex</th>\n",
              "      <th>capital-gain</th>\n",
              "      <th>capital-loss</th>\n",
              "      <th>hours-per-week</th>\n",
              "      <th>country</th>\n",
              "      <th>salary</th>\n",
              "    </tr>\n",
              "  </thead>\n",
              "  <tbody>\n",
              "    <tr>\n",
              "      <th>0</th>\n",
              "      <td>39</td>\n",
              "      <td>State-gov</td>\n",
              "      <td>77516</td>\n",
              "      <td>Bachelors</td>\n",
              "      <td>13</td>\n",
              "      <td>Never-married</td>\n",
              "      <td>Adm-clerical</td>\n",
              "      <td>Not-in-family</td>\n",
              "      <td>White</td>\n",
              "      <td>Male</td>\n",
              "      <td>2174</td>\n",
              "      <td>0</td>\n",
              "      <td>40</td>\n",
              "      <td>United-States</td>\n",
              "      <td>&lt;=50K</td>\n",
              "    </tr>\n",
              "    <tr>\n",
              "      <th>1</th>\n",
              "      <td>50</td>\n",
              "      <td>Self-emp-not-inc</td>\n",
              "      <td>83311</td>\n",
              "      <td>Bachelors</td>\n",
              "      <td>13</td>\n",
              "      <td>Married-civ-spouse</td>\n",
              "      <td>Exec-managerial</td>\n",
              "      <td>Husband</td>\n",
              "      <td>White</td>\n",
              "      <td>Male</td>\n",
              "      <td>0</td>\n",
              "      <td>0</td>\n",
              "      <td>13</td>\n",
              "      <td>United-States</td>\n",
              "      <td>&lt;=50K</td>\n",
              "    </tr>\n",
              "    <tr>\n",
              "      <th>2</th>\n",
              "      <td>38</td>\n",
              "      <td>Private</td>\n",
              "      <td>215646</td>\n",
              "      <td>HS-grad</td>\n",
              "      <td>9</td>\n",
              "      <td>Divorced</td>\n",
              "      <td>Handlers-cleaners</td>\n",
              "      <td>Not-in-family</td>\n",
              "      <td>White</td>\n",
              "      <td>Male</td>\n",
              "      <td>0</td>\n",
              "      <td>0</td>\n",
              "      <td>40</td>\n",
              "      <td>United-States</td>\n",
              "      <td>&lt;=50K</td>\n",
              "    </tr>\n",
              "    <tr>\n",
              "      <th>3</th>\n",
              "      <td>53</td>\n",
              "      <td>Private</td>\n",
              "      <td>234721</td>\n",
              "      <td>11th</td>\n",
              "      <td>7</td>\n",
              "      <td>Married-civ-spouse</td>\n",
              "      <td>Handlers-cleaners</td>\n",
              "      <td>Husband</td>\n",
              "      <td>Black</td>\n",
              "      <td>Male</td>\n",
              "      <td>0</td>\n",
              "      <td>0</td>\n",
              "      <td>40</td>\n",
              "      <td>United-States</td>\n",
              "      <td>&lt;=50K</td>\n",
              "    </tr>\n",
              "    <tr>\n",
              "      <th>4</th>\n",
              "      <td>28</td>\n",
              "      <td>Private</td>\n",
              "      <td>338409</td>\n",
              "      <td>Bachelors</td>\n",
              "      <td>13</td>\n",
              "      <td>Married-civ-spouse</td>\n",
              "      <td>Prof-specialty</td>\n",
              "      <td>Wife</td>\n",
              "      <td>Black</td>\n",
              "      <td>Female</td>\n",
              "      <td>0</td>\n",
              "      <td>0</td>\n",
              "      <td>40</td>\n",
              "      <td>Cuba</td>\n",
              "      <td>&lt;=50K</td>\n",
              "    </tr>\n",
              "  </tbody>\n",
              "</table>\n",
              "</div>"
            ],
            "text/plain": [
              "   age          workclass  fnlwgt   education  education-num  \\\n",
              "0   39          State-gov   77516   Bachelors             13   \n",
              "1   50   Self-emp-not-inc   83311   Bachelors             13   \n",
              "2   38            Private  215646     HS-grad              9   \n",
              "3   53            Private  234721        11th              7   \n",
              "4   28            Private  338409   Bachelors             13   \n",
              "\n",
              "        marital-status          occupation    relationship    race      sex  \\\n",
              "0        Never-married        Adm-clerical   Not-in-family   White     Male   \n",
              "1   Married-civ-spouse     Exec-managerial         Husband   White     Male   \n",
              "2             Divorced   Handlers-cleaners   Not-in-family   White     Male   \n",
              "3   Married-civ-spouse   Handlers-cleaners         Husband   Black     Male   \n",
              "4   Married-civ-spouse      Prof-specialty            Wife   Black   Female   \n",
              "\n",
              "   capital-gain  capital-loss  hours-per-week         country  salary  \n",
              "0          2174             0              40   United-States   <=50K  \n",
              "1             0             0              13   United-States   <=50K  \n",
              "2             0             0              40   United-States   <=50K  \n",
              "3             0             0              40   United-States   <=50K  \n",
              "4             0             0              40            Cuba   <=50K  "
            ]
          },
          "execution_count": 5,
          "metadata": {},
          "output_type": "execute_result"
        }
      ],
      "source": [
        "data.head()"
      ]
    },
    {
      "cell_type": "code",
      "execution_count": 6,
      "metadata": {
        "colab": {
          "base_uri": "https://localhost:8080/"
        },
        "id": "zlIJBvhbvSdY",
        "outputId": "ee50d753-f521-44f4-9bad-72aec047d449"
      },
      "outputs": [
        {
          "name": "stdout",
          "output_type": "stream",
          "text": [
            "age                  73\n",
            "workclass             9\n",
            "fnlwgt            21648\n",
            "education            16\n",
            "education-num        16\n",
            "marital-status        7\n",
            "occupation           15\n",
            "relationship          6\n",
            "race                  5\n",
            "sex                   2\n",
            "capital-gain        119\n",
            "capital-loss         92\n",
            "hours-per-week       94\n",
            "country              42\n",
            "salary                2\n",
            "dtype: int64\n"
          ]
        }
      ],
      "source": [
        "uniquecount=data.nunique()\n",
        "print(uniquecount)"
      ]
    },
    {
      "cell_type": "code",
      "execution_count": 7,
      "metadata": {
        "id": "BzfA70uOvSSp"
      },
      "outputs": [],
      "source": [
        "data.drop('age',axis=1,inplace= True)\n",
        "data.drop('fnlwgt',axis=1,inplace= True)\n",
        "data.drop('education-num',axis=1,inplace= True)\n",
        "data.drop('marital-status',axis=1,inplace= True)\n",
        "data.drop('relationship',axis=1,inplace= True)\n",
        "data.drop('race',axis=1,inplace= True)\n",
        "data.drop('sex',axis=1,inplace= True)"
      ]
    },
    {
      "cell_type": "code",
      "execution_count": 8,
      "metadata": {
        "colab": {
          "base_uri": "https://localhost:8080/",
          "height": 206
        },
        "id": "fxQYj-BH2Rox",
        "outputId": "8d18a278-02b8-4396-86ec-f64101fde71f"
      },
      "outputs": [
        {
          "data": {
            "text/html": [
              "<div>\n",
              "<style scoped>\n",
              "    .dataframe tbody tr th:only-of-type {\n",
              "        vertical-align: middle;\n",
              "    }\n",
              "\n",
              "    .dataframe tbody tr th {\n",
              "        vertical-align: top;\n",
              "    }\n",
              "\n",
              "    .dataframe thead th {\n",
              "        text-align: right;\n",
              "    }\n",
              "</style>\n",
              "<table border=\"1\" class=\"dataframe\">\n",
              "  <thead>\n",
              "    <tr style=\"text-align: right;\">\n",
              "      <th></th>\n",
              "      <th>workclass</th>\n",
              "      <th>education</th>\n",
              "      <th>occupation</th>\n",
              "      <th>capital-gain</th>\n",
              "      <th>capital-loss</th>\n",
              "      <th>hours-per-week</th>\n",
              "      <th>country</th>\n",
              "      <th>salary</th>\n",
              "    </tr>\n",
              "  </thead>\n",
              "  <tbody>\n",
              "    <tr>\n",
              "      <th>0</th>\n",
              "      <td>State-gov</td>\n",
              "      <td>Bachelors</td>\n",
              "      <td>Adm-clerical</td>\n",
              "      <td>2174</td>\n",
              "      <td>0</td>\n",
              "      <td>40</td>\n",
              "      <td>United-States</td>\n",
              "      <td>&lt;=50K</td>\n",
              "    </tr>\n",
              "    <tr>\n",
              "      <th>1</th>\n",
              "      <td>Self-emp-not-inc</td>\n",
              "      <td>Bachelors</td>\n",
              "      <td>Exec-managerial</td>\n",
              "      <td>0</td>\n",
              "      <td>0</td>\n",
              "      <td>13</td>\n",
              "      <td>United-States</td>\n",
              "      <td>&lt;=50K</td>\n",
              "    </tr>\n",
              "    <tr>\n",
              "      <th>2</th>\n",
              "      <td>Private</td>\n",
              "      <td>HS-grad</td>\n",
              "      <td>Handlers-cleaners</td>\n",
              "      <td>0</td>\n",
              "      <td>0</td>\n",
              "      <td>40</td>\n",
              "      <td>United-States</td>\n",
              "      <td>&lt;=50K</td>\n",
              "    </tr>\n",
              "    <tr>\n",
              "      <th>3</th>\n",
              "      <td>Private</td>\n",
              "      <td>11th</td>\n",
              "      <td>Handlers-cleaners</td>\n",
              "      <td>0</td>\n",
              "      <td>0</td>\n",
              "      <td>40</td>\n",
              "      <td>United-States</td>\n",
              "      <td>&lt;=50K</td>\n",
              "    </tr>\n",
              "    <tr>\n",
              "      <th>4</th>\n",
              "      <td>Private</td>\n",
              "      <td>Bachelors</td>\n",
              "      <td>Prof-specialty</td>\n",
              "      <td>0</td>\n",
              "      <td>0</td>\n",
              "      <td>40</td>\n",
              "      <td>Cuba</td>\n",
              "      <td>&lt;=50K</td>\n",
              "    </tr>\n",
              "  </tbody>\n",
              "</table>\n",
              "</div>"
            ],
            "text/plain": [
              "           workclass   education          occupation  capital-gain  \\\n",
              "0          State-gov   Bachelors        Adm-clerical          2174   \n",
              "1   Self-emp-not-inc   Bachelors     Exec-managerial             0   \n",
              "2            Private     HS-grad   Handlers-cleaners             0   \n",
              "3            Private        11th   Handlers-cleaners             0   \n",
              "4            Private   Bachelors      Prof-specialty             0   \n",
              "\n",
              "   capital-loss  hours-per-week         country  salary  \n",
              "0             0              40   United-States   <=50K  \n",
              "1             0              13   United-States   <=50K  \n",
              "2             0              40   United-States   <=50K  \n",
              "3             0              40   United-States   <=50K  \n",
              "4             0              40            Cuba   <=50K  "
            ]
          },
          "execution_count": 8,
          "metadata": {},
          "output_type": "execute_result"
        }
      ],
      "source": [
        "data.head()"
      ]
    },
    {
      "cell_type": "code",
      "execution_count": 9,
      "metadata": {
        "colab": {
          "base_uri": "https://localhost:8080/"
        },
        "id": "aZnvTcr72T1B",
        "outputId": "03afc794-2a48-4aea-f4f4-263ae3b8ee3d"
      },
      "outputs": [
        {
          "name": "stdout",
          "output_type": "stream",
          "text": [
            "[' United-States' ' Cuba' ' Jamaica' ' India' ' ?' ' Mexico' ' South'\n",
            " ' Puerto-Rico' ' Honduras' ' England' ' Canada' ' Germany' ' Iran'\n",
            " ' Philippines' ' Italy' ' Poland' ' Columbia' ' Cambodia' ' Thailand'\n",
            " ' Ecuador' ' Laos' ' Taiwan' ' Haiti' ' Portugal' ' Dominican-Republic'\n",
            " ' El-Salvador' ' France' ' Guatemala' ' China' ' Japan' ' Yugoslavia'\n",
            " ' Peru' ' Outlying-US(Guam-USVI-etc)' ' Scotland' ' Trinadad&Tobago'\n",
            " ' Greece' ' Nicaragua' ' Vietnam' ' Hong' ' Ireland' ' Hungary'\n",
            " ' Holand-Netherlands']\n"
          ]
        }
      ],
      "source": [
        "count=data['country'].unique()\n",
        "print(count)"
      ]
    },
    {
      "cell_type": "code",
      "execution_count": 10,
      "metadata": {
        "colab": {
          "base_uri": "https://localhost:8080/"
        },
        "id": "gM-nF2iX5jzC",
        "outputId": "38520370-a4ec-4721-b704-c5eca44944f4"
      },
      "outputs": [
        {
          "name": "stdout",
          "output_type": "stream",
          "text": [
            "[' State-gov' ' Self-emp-not-inc' ' Private' ' Federal-gov' ' Local-gov'\n",
            " ' ?' ' Self-emp-inc' ' Without-pay' ' Never-worked']\n"
          ]
        }
      ],
      "source": [
        "work=data['workclass'].unique()\n",
        "print(work)"
      ]
    },
    {
      "cell_type": "code",
      "execution_count": 11,
      "metadata": {
        "colab": {
          "base_uri": "https://localhost:8080/"
        },
        "id": "Kc0ud74A6Wyq",
        "outputId": "0a3c6468-7e58-4708-edfd-659c69fa9d9f"
      },
      "outputs": [
        {
          "name": "stdout",
          "output_type": "stream",
          "text": [
            "9\n"
          ]
        }
      ],
      "source": [
        "print(data['workclass'].nunique('?'))"
      ]
    },
    {
      "cell_type": "code",
      "execution_count": 12,
      "metadata": {
        "colab": {
          "base_uri": "https://localhost:8080/"
        },
        "id": "0fSB_Z2PiAm0",
        "outputId": "38cf44f8-ea8d-4e12-bd06-2c9609514eee"
      },
      "outputs": [
        {
          "name": "stdout",
          "output_type": "stream",
          "text": [
            "1836\n"
          ]
        }
      ],
      "source": [
        "print((data['workclass'] == ' ?').sum())"
      ]
    },
    {
      "cell_type": "code",
      "execution_count": 13,
      "metadata": {
        "id": "eh_9mrxnJP8Q"
      },
      "outputs": [],
      "source": [
        "data['workclass']= data['workclass'].replace(' ?', np.NAN)"
      ]
    },
    {
      "cell_type": "code",
      "execution_count": 14,
      "metadata": {
        "colab": {
          "base_uri": "https://localhost:8080/"
        },
        "id": "QSlu082EfeoP",
        "outputId": "ea1247a4-103e-405b-a6c0-4f94409a4c03"
      },
      "outputs": [
        {
          "name": "stdout",
          "output_type": "stream",
          "text": [
            "[' State-gov' ' Self-emp-not-inc' ' Private' ' Federal-gov' ' Local-gov'\n",
            " nan ' Self-emp-inc' ' Without-pay' ' Never-worked']\n"
          ]
        }
      ],
      "source": [
        "work=data['workclass'].unique()\n",
        "print(work)"
      ]
    },
    {
      "cell_type": "code",
      "execution_count": 15,
      "metadata": {
        "colab": {
          "base_uri": "https://localhost:8080/"
        },
        "id": "wty03XtcflK9",
        "outputId": "d9f2e3cb-a375-471b-b7f8-48d69accd815"
      },
      "outputs": [
        {
          "name": "stdout",
          "output_type": "stream",
          "text": [
            "0\n"
          ]
        }
      ],
      "source": [
        "print((data['workclass'] == ' ?').sum())"
      ]
    },
    {
      "cell_type": "code",
      "execution_count": 16,
      "metadata": {
        "colab": {
          "base_uri": "https://localhost:8080/"
        },
        "id": "_9sJU4oPhbSq",
        "outputId": "1313c515-4749-4ef9-c9f3-cdfd6b85ce50"
      },
      "outputs": [
        {
          "name": "stdout",
          "output_type": "stream",
          "text": [
            "[' Bachelors' ' HS-grad' ' 11th' ' Masters' ' 9th' ' Some-college'\n",
            " ' Assoc-acdm' ' Assoc-voc' ' 7th-8th' ' Doctorate' ' Prof-school'\n",
            " ' 5th-6th' ' 10th' ' 1st-4th' ' Preschool' ' 12th']\n"
          ]
        }
      ],
      "source": [
        "print(data['education'].unique())"
      ]
    },
    {
      "cell_type": "code",
      "execution_count": 17,
      "metadata": {
        "colab": {
          "base_uri": "https://localhost:8080/"
        },
        "id": "1MxsmY1zmR7H",
        "outputId": "518c208e-0a92-44f7-9396-aa6e8b3fc5f2"
      },
      "outputs": [
        {
          "name": "stdout",
          "output_type": "stream",
          "text": [
            "16\n"
          ]
        }
      ],
      "source": [
        "print(data['education'].nunique())"
      ]
    },
    {
      "cell_type": "code",
      "execution_count": 18,
      "metadata": {
        "colab": {
          "base_uri": "https://localhost:8080/"
        },
        "id": "ZDiy0DGUmR6S",
        "outputId": "daed24c8-fe3b-4cd6-ee7f-e9b3a96d607e"
      },
      "outputs": [
        {
          "name": "stdout",
          "output_type": "stream",
          "text": [
            "[' Adm-clerical' ' Exec-managerial' ' Handlers-cleaners' ' Prof-specialty'\n",
            " ' Other-service' ' Sales' ' Craft-repair' ' Transport-moving'\n",
            " ' Farming-fishing' ' Machine-op-inspct' ' Tech-support' ' ?'\n",
            " ' Protective-serv' ' Armed-Forces' ' Priv-house-serv']\n"
          ]
        }
      ],
      "source": [
        "print(data['occupation'].unique())"
      ]
    },
    {
      "cell_type": "code",
      "execution_count": 19,
      "metadata": {
        "colab": {
          "base_uri": "https://localhost:8080/"
        },
        "id": "8ip0UJjSmR2S",
        "outputId": "9b1b5b4c-f7fa-494c-b923-ba7d7e5ea2cd"
      },
      "outputs": [
        {
          "name": "stdout",
          "output_type": "stream",
          "text": [
            "1843\n"
          ]
        }
      ],
      "source": [
        "print((data['occupation'] == ' ?').sum())"
      ]
    },
    {
      "cell_type": "code",
      "execution_count": 20,
      "metadata": {
        "id": "fuVuOElsmR1i"
      },
      "outputs": [],
      "source": [
        "data['occupation']= data['occupation'].replace(' ?', np.NAN)"
      ]
    },
    {
      "cell_type": "code",
      "execution_count": 21,
      "metadata": {
        "colab": {
          "base_uri": "https://localhost:8080/"
        },
        "id": "eDUyRIg2mRxe",
        "outputId": "b6e122a7-da5a-453c-8b3d-fa3667e49330"
      },
      "outputs": [
        {
          "name": "stdout",
          "output_type": "stream",
          "text": [
            "0\n"
          ]
        }
      ],
      "source": [
        "print((data['occupation'] == ' ?').sum())"
      ]
    },
    {
      "cell_type": "code",
      "execution_count": 22,
      "metadata": {
        "colab": {
          "base_uri": "https://localhost:8080/"
        },
        "id": "qQDP6r-9mRwt",
        "outputId": "257cf8fa-4c98-4d7a-8ef8-bc07953829a7"
      },
      "outputs": [
        {
          "name": "stdout",
          "output_type": "stream",
          "text": [
            "[ 2174     0 14084  5178  5013  2407 14344 15024  7688 34095  4064  4386\n",
            "  7298  1409  3674  1055  3464  2050  2176   594 20051  6849  4101  1111\n",
            "  8614  3411  2597 25236  4650  9386  2463  3103 10605  2964  3325  2580\n",
            "  3471  4865 99999  6514  1471  2329  2105  2885 25124 10520  2202  2961\n",
            " 27828  6767  2228  1506 13550  2635  5556  4787  3781  3137  3818  3942\n",
            "   914   401  2829  2977  4934  2062  2354  5455 15020  1424  3273 22040\n",
            "  4416  3908 10566   991  4931  1086  7430  6497   114  7896  2346  3418\n",
            "  3432  2907  1151  2414  2290 15831 41310  4508  2538  3456  6418  1848\n",
            "  3887  5721  9562  1455  2036  1831 11678  2936  2993  7443  6360  1797\n",
            "  1173  4687  6723  2009  6097  2653  1639 18481  7978  2387  5060]\n"
          ]
        }
      ],
      "source": [
        "print(data['capital-gain'].unique())"
      ]
    },
    {
      "cell_type": "code",
      "execution_count": 23,
      "metadata": {
        "colab": {
          "base_uri": "https://localhost:8080/"
        },
        "id": "zzzzuPPTmRst",
        "outputId": "7522d296-3edb-4b45-db6f-c931a143fd28"
      },
      "outputs": [
        {
          "name": "stdout",
          "output_type": "stream",
          "text": [
            "29849\n"
          ]
        }
      ],
      "source": [
        "print((data['capital-gain'] == 0).sum())"
      ]
    },
    {
      "cell_type": "code",
      "execution_count": 24,
      "metadata": {
        "colab": {
          "base_uri": "https://localhost:8080/"
        },
        "id": "YhlzTZV9mRr5",
        "outputId": "2db579b0-7a87-4cd3-d7aa-c9b840e05ce9"
      },
      "outputs": [
        {
          "name": "stdout",
          "output_type": "stream",
          "text": [
            "[   0 2042 1408 1902 1573 1887 1719 1762 1564 2179 1816 1980 1977 1876\n",
            " 1340 2206 1741 1485 2339 2415 1380 1721 2051 2377 1669 2352 1672  653\n",
            " 2392 1504 2001 1590 1651 1628 1848 1740 2002 1579 2258 1602  419 2547\n",
            " 2174 2205 1726 2444 1138 2238  625  213 1539  880 1668 1092 1594 3004\n",
            " 2231 1844  810 2824 2559 2057 1974  974 2149 1825 1735 1258 2129 2603\n",
            " 2282  323 4356 2246 1617 1648 2489 3770 1755 3683 2267 2080 2457  155\n",
            " 3900 2201 1944 2467 2163 2754 2472 1411]\n"
          ]
        }
      ],
      "source": [
        "print(data['capital-loss'].unique())"
      ]
    },
    {
      "cell_type": "code",
      "execution_count": 25,
      "metadata": {
        "colab": {
          "base_uri": "https://localhost:8080/"
        },
        "id": "Y-pqZkMRqufx",
        "outputId": "06fd1dcb-aa3a-4cf1-e700-cc61abcdb2d5"
      },
      "outputs": [
        {
          "name": "stdout",
          "output_type": "stream",
          "text": [
            "[40 13 16 45 50 80 30 35 60 20 52 44 15 25 38 43 55 48 58 32 70  2 22 56\n",
            " 41 28 36 24 46 42 12 65  1 10 34 75 98 33 54  8  6 64 19 18 72  5  9 47\n",
            " 37 21 26 14  4 59  7 99 53 39 62 57 78 90 66 11 49 84  3 17 68 27 85 31\n",
            " 51 77 63 23 87 88 73 89 97 94 29 96 67 82 86 91 81 76 92 61 74 95]\n"
          ]
        }
      ],
      "source": [
        "print(data['hours-per-week'].unique())"
      ]
    },
    {
      "cell_type": "code",
      "execution_count": 26,
      "metadata": {
        "colab": {
          "base_uri": "https://localhost:8080/"
        },
        "id": "cdavJwNdq4v3",
        "outputId": "93cd942a-3a89-4177-be55-11b885270457"
      },
      "outputs": [
        {
          "name": "stdout",
          "output_type": "stream",
          "text": [
            "[' United-States' ' Cuba' ' Jamaica' ' India' ' ?' ' Mexico' ' South'\n",
            " ' Puerto-Rico' ' Honduras' ' England' ' Canada' ' Germany' ' Iran'\n",
            " ' Philippines' ' Italy' ' Poland' ' Columbia' ' Cambodia' ' Thailand'\n",
            " ' Ecuador' ' Laos' ' Taiwan' ' Haiti' ' Portugal' ' Dominican-Republic'\n",
            " ' El-Salvador' ' France' ' Guatemala' ' China' ' Japan' ' Yugoslavia'\n",
            " ' Peru' ' Outlying-US(Guam-USVI-etc)' ' Scotland' ' Trinadad&Tobago'\n",
            " ' Greece' ' Nicaragua' ' Vietnam' ' Hong' ' Ireland' ' Hungary'\n",
            " ' Holand-Netherlands']\n"
          ]
        }
      ],
      "source": [
        "print(data['country'].unique())"
      ]
    },
    {
      "cell_type": "code",
      "execution_count": 27,
      "metadata": {
        "id": "li4r5X3gq4vI"
      },
      "outputs": [],
      "source": [
        "data['country']= data['country'].replace(' ?', np.NAN)"
      ]
    },
    {
      "cell_type": "code",
      "execution_count": 28,
      "metadata": {
        "colab": {
          "base_uri": "https://localhost:8080/"
        },
        "id": "IjYsHsJJq4qo",
        "outputId": "3a92837a-3b19-47c6-bec8-3e2732e8acf4"
      },
      "outputs": [
        {
          "name": "stdout",
          "output_type": "stream",
          "text": [
            "0\n"
          ]
        }
      ],
      "source": [
        "print((data['country']==' ?').sum())"
      ]
    },
    {
      "cell_type": "code",
      "execution_count": 29,
      "metadata": {
        "colab": {
          "base_uri": "https://localhost:8080/"
        },
        "id": "ATPhUiQqq4p2",
        "outputId": "b04c5bb1-db24-4114-d2ed-6dc0bfab04e3"
      },
      "outputs": [
        {
          "name": "stdout",
          "output_type": "stream",
          "text": [
            "[' United-States' ' Cuba' ' Jamaica' ' India' nan ' Mexico' ' South'\n",
            " ' Puerto-Rico' ' Honduras' ' England' ' Canada' ' Germany' ' Iran'\n",
            " ' Philippines' ' Italy' ' Poland' ' Columbia' ' Cambodia' ' Thailand'\n",
            " ' Ecuador' ' Laos' ' Taiwan' ' Haiti' ' Portugal' ' Dominican-Republic'\n",
            " ' El-Salvador' ' France' ' Guatemala' ' China' ' Japan' ' Yugoslavia'\n",
            " ' Peru' ' Outlying-US(Guam-USVI-etc)' ' Scotland' ' Trinadad&Tobago'\n",
            " ' Greece' ' Nicaragua' ' Vietnam' ' Hong' ' Ireland' ' Hungary'\n",
            " ' Holand-Netherlands']\n"
          ]
        }
      ],
      "source": [
        "print(data['country'].unique())"
      ]
    },
    {
      "cell_type": "code",
      "execution_count": 30,
      "metadata": {
        "colab": {
          "base_uri": "https://localhost:8080/"
        },
        "id": "nUefRbk-q4lr",
        "outputId": "68c64631-0ca6-4d48-b461-6a16b4716a4e"
      },
      "outputs": [
        {
          "name": "stdout",
          "output_type": "stream",
          "text": [
            "[' <=50K' ' >50K']\n"
          ]
        }
      ],
      "source": [
        "print(data['salary'].unique())"
      ]
    },
    {
      "cell_type": "code",
      "execution_count": 31,
      "metadata": {
        "colab": {
          "base_uri": "https://localhost:8080/",
          "height": 206
        },
        "id": "8EDsOf16q4k7",
        "outputId": "0ba01723-c88d-4c1f-a6d9-291721571986"
      },
      "outputs": [
        {
          "data": {
            "text/html": [
              "<div>\n",
              "<style scoped>\n",
              "    .dataframe tbody tr th:only-of-type {\n",
              "        vertical-align: middle;\n",
              "    }\n",
              "\n",
              "    .dataframe tbody tr th {\n",
              "        vertical-align: top;\n",
              "    }\n",
              "\n",
              "    .dataframe thead th {\n",
              "        text-align: right;\n",
              "    }\n",
              "</style>\n",
              "<table border=\"1\" class=\"dataframe\">\n",
              "  <thead>\n",
              "    <tr style=\"text-align: right;\">\n",
              "      <th></th>\n",
              "      <th>workclass</th>\n",
              "      <th>education</th>\n",
              "      <th>occupation</th>\n",
              "      <th>capital-gain</th>\n",
              "      <th>capital-loss</th>\n",
              "      <th>hours-per-week</th>\n",
              "      <th>country</th>\n",
              "      <th>salary</th>\n",
              "    </tr>\n",
              "  </thead>\n",
              "  <tbody>\n",
              "    <tr>\n",
              "      <th>0</th>\n",
              "      <td>State-gov</td>\n",
              "      <td>Bachelors</td>\n",
              "      <td>Adm-clerical</td>\n",
              "      <td>2174</td>\n",
              "      <td>0</td>\n",
              "      <td>40</td>\n",
              "      <td>United-States</td>\n",
              "      <td>&lt;=50K</td>\n",
              "    </tr>\n",
              "    <tr>\n",
              "      <th>1</th>\n",
              "      <td>Self-emp-not-inc</td>\n",
              "      <td>Bachelors</td>\n",
              "      <td>Exec-managerial</td>\n",
              "      <td>0</td>\n",
              "      <td>0</td>\n",
              "      <td>13</td>\n",
              "      <td>United-States</td>\n",
              "      <td>&lt;=50K</td>\n",
              "    </tr>\n",
              "    <tr>\n",
              "      <th>2</th>\n",
              "      <td>Private</td>\n",
              "      <td>HS-grad</td>\n",
              "      <td>Handlers-cleaners</td>\n",
              "      <td>0</td>\n",
              "      <td>0</td>\n",
              "      <td>40</td>\n",
              "      <td>United-States</td>\n",
              "      <td>&lt;=50K</td>\n",
              "    </tr>\n",
              "    <tr>\n",
              "      <th>3</th>\n",
              "      <td>Private</td>\n",
              "      <td>11th</td>\n",
              "      <td>Handlers-cleaners</td>\n",
              "      <td>0</td>\n",
              "      <td>0</td>\n",
              "      <td>40</td>\n",
              "      <td>United-States</td>\n",
              "      <td>&lt;=50K</td>\n",
              "    </tr>\n",
              "    <tr>\n",
              "      <th>4</th>\n",
              "      <td>Private</td>\n",
              "      <td>Bachelors</td>\n",
              "      <td>Prof-specialty</td>\n",
              "      <td>0</td>\n",
              "      <td>0</td>\n",
              "      <td>40</td>\n",
              "      <td>Cuba</td>\n",
              "      <td>&lt;=50K</td>\n",
              "    </tr>\n",
              "  </tbody>\n",
              "</table>\n",
              "</div>"
            ],
            "text/plain": [
              "           workclass   education          occupation  capital-gain  \\\n",
              "0          State-gov   Bachelors        Adm-clerical          2174   \n",
              "1   Self-emp-not-inc   Bachelors     Exec-managerial             0   \n",
              "2            Private     HS-grad   Handlers-cleaners             0   \n",
              "3            Private        11th   Handlers-cleaners             0   \n",
              "4            Private   Bachelors      Prof-specialty             0   \n",
              "\n",
              "   capital-loss  hours-per-week         country  salary  \n",
              "0             0              40   United-States   <=50K  \n",
              "1             0              13   United-States   <=50K  \n",
              "2             0              40   United-States   <=50K  \n",
              "3             0              40   United-States   <=50K  \n",
              "4             0              40            Cuba   <=50K  "
            ]
          },
          "execution_count": 31,
          "metadata": {},
          "output_type": "execute_result"
        }
      ],
      "source": [
        "data.head()"
      ]
    },
    {
      "cell_type": "code",
      "execution_count": 32,
      "metadata": {
        "colab": {
          "base_uri": "https://localhost:8080/"
        },
        "id": "Uckv0iUrq4gY",
        "outputId": "fcc1cc7c-bb7c-468b-f89a-aab288e4c9e2"
      },
      "outputs": [
        {
          "data": {
            "text/plain": [
              "workclass         1836\n",
              "education            0\n",
              "occupation        1843\n",
              "capital-gain         0\n",
              "capital-loss         0\n",
              "hours-per-week       0\n",
              "country            583\n",
              "salary               0\n",
              "dtype: int64"
            ]
          },
          "execution_count": 32,
          "metadata": {},
          "output_type": "execute_result"
        }
      ],
      "source": [
        "data.isnull().sum()"
      ]
    },
    {
      "cell_type": "code",
      "execution_count": 33,
      "metadata": {
        "colab": {
          "base_uri": "https://localhost:8080/"
        },
        "id": "uDBgEriRq4fr",
        "outputId": "28fa10c0-e318-4cf7-b01c-63a5d6d76814"
      },
      "outputs": [
        {
          "name": "stdout",
          "output_type": "stream",
          "text": [
            "<class 'pandas.core.frame.DataFrame'>\n",
            "RangeIndex: 32561 entries, 0 to 32560\n",
            "Data columns (total 8 columns):\n",
            " #   Column          Non-Null Count  Dtype \n",
            "---  ------          --------------  ----- \n",
            " 0   workclass       30725 non-null  object\n",
            " 1   education       32561 non-null  object\n",
            " 2   occupation      30718 non-null  object\n",
            " 3   capital-gain    32561 non-null  int64 \n",
            " 4   capital-loss    32561 non-null  int64 \n",
            " 5   hours-per-week  32561 non-null  int64 \n",
            " 6   country         31978 non-null  object\n",
            " 7   salary          32561 non-null  object\n",
            "dtypes: int64(3), object(5)\n",
            "memory usage: 2.0+ MB\n"
          ]
        }
      ],
      "source": [
        "data.info()"
      ]
    },
    {
      "cell_type": "code",
      "execution_count": 34,
      "metadata": {
        "id": "of8_NX6fIqJi"
      },
      "outputs": [],
      "source": [
        "newdata=data.dropna()"
      ]
    },
    {
      "cell_type": "code",
      "execution_count": 35,
      "metadata": {
        "colab": {
          "base_uri": "https://localhost:8080/"
        },
        "id": "6X2nGvATJNMb",
        "outputId": "bc37e628-14b5-44e8-a2b2-64cd953f2e98"
      },
      "outputs": [
        {
          "name": "stdout",
          "output_type": "stream",
          "text": [
            "<class 'pandas.core.frame.DataFrame'>\n",
            "Index: 30162 entries, 0 to 32560\n",
            "Data columns (total 8 columns):\n",
            " #   Column          Non-Null Count  Dtype \n",
            "---  ------          --------------  ----- \n",
            " 0   workclass       30162 non-null  object\n",
            " 1   education       30162 non-null  object\n",
            " 2   occupation      30162 non-null  object\n",
            " 3   capital-gain    30162 non-null  int64 \n",
            " 4   capital-loss    30162 non-null  int64 \n",
            " 5   hours-per-week  30162 non-null  int64 \n",
            " 6   country         30162 non-null  object\n",
            " 7   salary          30162 non-null  object\n",
            "dtypes: int64(3), object(5)\n",
            "memory usage: 2.1+ MB\n"
          ]
        }
      ],
      "source": [
        "newdata.info()"
      ]
    },
    {
      "cell_type": "code",
      "execution_count": 36,
      "metadata": {
        "colab": {
          "base_uri": "https://localhost:8080/",
          "height": 206
        },
        "id": "LG-5P69PJW0y",
        "outputId": "706ab3fc-d94d-4050-da57-c284f88622db"
      },
      "outputs": [
        {
          "data": {
            "text/html": [
              "<div>\n",
              "<style scoped>\n",
              "    .dataframe tbody tr th:only-of-type {\n",
              "        vertical-align: middle;\n",
              "    }\n",
              "\n",
              "    .dataframe tbody tr th {\n",
              "        vertical-align: top;\n",
              "    }\n",
              "\n",
              "    .dataframe thead th {\n",
              "        text-align: right;\n",
              "    }\n",
              "</style>\n",
              "<table border=\"1\" class=\"dataframe\">\n",
              "  <thead>\n",
              "    <tr style=\"text-align: right;\">\n",
              "      <th></th>\n",
              "      <th>workclass</th>\n",
              "      <th>education</th>\n",
              "      <th>occupation</th>\n",
              "      <th>capital-gain</th>\n",
              "      <th>capital-loss</th>\n",
              "      <th>hours-per-week</th>\n",
              "      <th>country</th>\n",
              "      <th>salary</th>\n",
              "    </tr>\n",
              "  </thead>\n",
              "  <tbody>\n",
              "    <tr>\n",
              "      <th>0</th>\n",
              "      <td>State-gov</td>\n",
              "      <td>Bachelors</td>\n",
              "      <td>Adm-clerical</td>\n",
              "      <td>2174</td>\n",
              "      <td>0</td>\n",
              "      <td>40</td>\n",
              "      <td>United-States</td>\n",
              "      <td>&lt;=50K</td>\n",
              "    </tr>\n",
              "    <tr>\n",
              "      <th>1</th>\n",
              "      <td>Self-emp-not-inc</td>\n",
              "      <td>Bachelors</td>\n",
              "      <td>Exec-managerial</td>\n",
              "      <td>0</td>\n",
              "      <td>0</td>\n",
              "      <td>13</td>\n",
              "      <td>United-States</td>\n",
              "      <td>&lt;=50K</td>\n",
              "    </tr>\n",
              "    <tr>\n",
              "      <th>2</th>\n",
              "      <td>Private</td>\n",
              "      <td>HS-grad</td>\n",
              "      <td>Handlers-cleaners</td>\n",
              "      <td>0</td>\n",
              "      <td>0</td>\n",
              "      <td>40</td>\n",
              "      <td>United-States</td>\n",
              "      <td>&lt;=50K</td>\n",
              "    </tr>\n",
              "    <tr>\n",
              "      <th>3</th>\n",
              "      <td>Private</td>\n",
              "      <td>11th</td>\n",
              "      <td>Handlers-cleaners</td>\n",
              "      <td>0</td>\n",
              "      <td>0</td>\n",
              "      <td>40</td>\n",
              "      <td>United-States</td>\n",
              "      <td>&lt;=50K</td>\n",
              "    </tr>\n",
              "    <tr>\n",
              "      <th>4</th>\n",
              "      <td>Private</td>\n",
              "      <td>Bachelors</td>\n",
              "      <td>Prof-specialty</td>\n",
              "      <td>0</td>\n",
              "      <td>0</td>\n",
              "      <td>40</td>\n",
              "      <td>Cuba</td>\n",
              "      <td>&lt;=50K</td>\n",
              "    </tr>\n",
              "  </tbody>\n",
              "</table>\n",
              "</div>"
            ],
            "text/plain": [
              "           workclass   education          occupation  capital-gain  \\\n",
              "0          State-gov   Bachelors        Adm-clerical          2174   \n",
              "1   Self-emp-not-inc   Bachelors     Exec-managerial             0   \n",
              "2            Private     HS-grad   Handlers-cleaners             0   \n",
              "3            Private        11th   Handlers-cleaners             0   \n",
              "4            Private   Bachelors      Prof-specialty             0   \n",
              "\n",
              "   capital-loss  hours-per-week         country  salary  \n",
              "0             0              40   United-States   <=50K  \n",
              "1             0              13   United-States   <=50K  \n",
              "2             0              40   United-States   <=50K  \n",
              "3             0              40   United-States   <=50K  \n",
              "4             0              40            Cuba   <=50K  "
            ]
          },
          "execution_count": 36,
          "metadata": {},
          "output_type": "execute_result"
        }
      ],
      "source": [
        "newdata.head()"
      ]
    },
    {
      "cell_type": "code",
      "execution_count": 37,
      "metadata": {
        "colab": {
          "base_uri": "https://localhost:8080/"
        },
        "id": "gRpPBBTcNmb8",
        "outputId": "4c17f4a9-557b-40a4-b965-c7df2b98e56c"
      },
      "outputs": [
        {
          "data": {
            "text/plain": [
              "workclass\n",
              " Private             22286\n",
              " Self-emp-not-inc     2499\n",
              " Local-gov            2067\n",
              " State-gov            1279\n",
              " Self-emp-inc         1074\n",
              " Federal-gov           943\n",
              " Without-pay            14\n",
              "Name: count, dtype: int64"
            ]
          },
          "execution_count": 37,
          "metadata": {},
          "output_type": "execute_result"
        }
      ],
      "source": [
        "newdata[\"workclass\"].value_counts()"
      ]
    },
    {
      "cell_type": "code",
      "execution_count": 38,
      "metadata": {
        "colab": {
          "base_uri": "https://localhost:8080/"
        },
        "id": "bZm-58KBPHRr",
        "outputId": "73faa6f2-5eea-4eb8-c482-1447efbff1a8"
      },
      "outputs": [
        {
          "data": {
            "text/plain": [
              "education\n",
              " HS-grad         9840\n",
              " Some-college    6678\n",
              " Bachelors       5044\n",
              " Masters         1627\n",
              " Assoc-voc       1307\n",
              " 11th            1048\n",
              " Assoc-acdm      1008\n",
              " 10th             820\n",
              " 7th-8th          557\n",
              " Prof-school      542\n",
              " 9th              455\n",
              " 12th             377\n",
              " Doctorate        375\n",
              " 5th-6th          288\n",
              " 1st-4th          151\n",
              " Preschool         45\n",
              "Name: count, dtype: int64"
            ]
          },
          "execution_count": 38,
          "metadata": {},
          "output_type": "execute_result"
        }
      ],
      "source": [
        "newdata[\"education\"].value_counts()"
      ]
    },
    {
      "cell_type": "code",
      "execution_count": 39,
      "metadata": {
        "colab": {
          "base_uri": "https://localhost:8080/"
        },
        "id": "72t1ZO86PHN7",
        "outputId": "38cf5e61-bb83-4440-af28-1bc6954d6aa3"
      },
      "outputs": [
        {
          "data": {
            "text/plain": [
              "occupation\n",
              " Prof-specialty       4038\n",
              " Craft-repair         4030\n",
              " Exec-managerial      3992\n",
              " Adm-clerical         3721\n",
              " Sales                3584\n",
              " Other-service        3212\n",
              " Machine-op-inspct    1966\n",
              " Transport-moving     1572\n",
              " Handlers-cleaners    1350\n",
              " Farming-fishing       989\n",
              " Tech-support          912\n",
              " Protective-serv       644\n",
              " Priv-house-serv       143\n",
              " Armed-Forces            9\n",
              "Name: count, dtype: int64"
            ]
          },
          "execution_count": 39,
          "metadata": {},
          "output_type": "execute_result"
        }
      ],
      "source": [
        "newdata[\"occupation\"].value_counts()"
      ]
    },
    {
      "cell_type": "code",
      "execution_count": 40,
      "metadata": {
        "id": "wqMWYcHy7Rr8"
      },
      "outputs": [],
      "source": [
        "y = newdata.loc[:,['salary']]"
      ]
    },
    {
      "cell_type": "code",
      "execution_count": 41,
      "metadata": {
        "colab": {
          "base_uri": "https://localhost:8080/"
        },
        "id": "YqvtqUNH7Yuw",
        "outputId": "b4b14ab8-a46f-4384-e570-6976977c1d60"
      },
      "outputs": [
        {
          "data": {
            "text/plain": [
              "salary    30162\n",
              "dtype: int64"
            ]
          },
          "execution_count": 41,
          "metadata": {},
          "output_type": "execute_result"
        }
      ],
      "source": [
        "y.count()"
      ]
    },
    {
      "cell_type": "code",
      "execution_count": 42,
      "metadata": {
        "colab": {
          "base_uri": "https://localhost:8080/",
          "height": 206
        },
        "id": "ccLSnFv37Ypu",
        "outputId": "7046c831-4eeb-49c3-a63f-c96171153110"
      },
      "outputs": [
        {
          "data": {
            "text/html": [
              "<div>\n",
              "<style scoped>\n",
              "    .dataframe tbody tr th:only-of-type {\n",
              "        vertical-align: middle;\n",
              "    }\n",
              "\n",
              "    .dataframe tbody tr th {\n",
              "        vertical-align: top;\n",
              "    }\n",
              "\n",
              "    .dataframe thead th {\n",
              "        text-align: right;\n",
              "    }\n",
              "</style>\n",
              "<table border=\"1\" class=\"dataframe\">\n",
              "  <thead>\n",
              "    <tr style=\"text-align: right;\">\n",
              "      <th></th>\n",
              "      <th>workclass</th>\n",
              "      <th>education</th>\n",
              "      <th>occupation</th>\n",
              "      <th>capital-gain</th>\n",
              "      <th>capital-loss</th>\n",
              "      <th>hours-per-week</th>\n",
              "      <th>country</th>\n",
              "      <th>salary</th>\n",
              "    </tr>\n",
              "  </thead>\n",
              "  <tbody>\n",
              "    <tr>\n",
              "      <th>0</th>\n",
              "      <td>State-gov</td>\n",
              "      <td>Bachelors</td>\n",
              "      <td>Adm-clerical</td>\n",
              "      <td>2174</td>\n",
              "      <td>0</td>\n",
              "      <td>40</td>\n",
              "      <td>United-States</td>\n",
              "      <td>&lt;=50K</td>\n",
              "    </tr>\n",
              "    <tr>\n",
              "      <th>1</th>\n",
              "      <td>Self-emp-not-inc</td>\n",
              "      <td>Bachelors</td>\n",
              "      <td>Exec-managerial</td>\n",
              "      <td>0</td>\n",
              "      <td>0</td>\n",
              "      <td>13</td>\n",
              "      <td>United-States</td>\n",
              "      <td>&lt;=50K</td>\n",
              "    </tr>\n",
              "    <tr>\n",
              "      <th>2</th>\n",
              "      <td>Private</td>\n",
              "      <td>HS-grad</td>\n",
              "      <td>Handlers-cleaners</td>\n",
              "      <td>0</td>\n",
              "      <td>0</td>\n",
              "      <td>40</td>\n",
              "      <td>United-States</td>\n",
              "      <td>&lt;=50K</td>\n",
              "    </tr>\n",
              "    <tr>\n",
              "      <th>3</th>\n",
              "      <td>Private</td>\n",
              "      <td>11th</td>\n",
              "      <td>Handlers-cleaners</td>\n",
              "      <td>0</td>\n",
              "      <td>0</td>\n",
              "      <td>40</td>\n",
              "      <td>United-States</td>\n",
              "      <td>&lt;=50K</td>\n",
              "    </tr>\n",
              "    <tr>\n",
              "      <th>4</th>\n",
              "      <td>Private</td>\n",
              "      <td>Bachelors</td>\n",
              "      <td>Prof-specialty</td>\n",
              "      <td>0</td>\n",
              "      <td>0</td>\n",
              "      <td>40</td>\n",
              "      <td>Cuba</td>\n",
              "      <td>&lt;=50K</td>\n",
              "    </tr>\n",
              "  </tbody>\n",
              "</table>\n",
              "</div>"
            ],
            "text/plain": [
              "           workclass   education          occupation  capital-gain  \\\n",
              "0          State-gov   Bachelors        Adm-clerical          2174   \n",
              "1   Self-emp-not-inc   Bachelors     Exec-managerial             0   \n",
              "2            Private     HS-grad   Handlers-cleaners             0   \n",
              "3            Private        11th   Handlers-cleaners             0   \n",
              "4            Private   Bachelors      Prof-specialty             0   \n",
              "\n",
              "   capital-loss  hours-per-week         country  salary  \n",
              "0             0              40   United-States   <=50K  \n",
              "1             0              13   United-States   <=50K  \n",
              "2             0              40   United-States   <=50K  \n",
              "3             0              40   United-States   <=50K  \n",
              "4             0              40            Cuba   <=50K  "
            ]
          },
          "execution_count": 42,
          "metadata": {},
          "output_type": "execute_result"
        }
      ],
      "source": [
        "newdata.head()"
      ]
    },
    {
      "cell_type": "code",
      "execution_count": 43,
      "metadata": {
        "colab": {
          "base_uri": "https://localhost:8080/"
        },
        "id": "EFihm2qC8VmM",
        "outputId": "4d9fcfc3-8858-4f5c-ddf3-5bd286abc3fe"
      },
      "outputs": [
        {
          "name": "stderr",
          "output_type": "stream",
          "text": [
            "C:\\Users\\thele\\AppData\\Local\\Temp\\ipykernel_11048\\396858519.py:1: SettingWithCopyWarning: \n",
            "A value is trying to be set on a copy of a slice from a DataFrame\n",
            "\n",
            "See the caveats in the documentation: https://pandas.pydata.org/pandas-docs/stable/user_guide/indexing.html#returning-a-view-versus-a-copy\n",
            "  newdata.drop('salary',axis=1,inplace= True)\n"
          ]
        }
      ],
      "source": [
        "newdata.drop('salary',axis=1,inplace= True)\n"
      ]
    },
    {
      "cell_type": "code",
      "execution_count": 44,
      "metadata": {
        "id": "JnnRIKH38Ve6"
      },
      "outputs": [],
      "source": [
        "from sklearn.model_selection import train_test_split\n",
        "X_train, X_test, Y_train, Y_test = train_test_split(newdata,y, test_size=0.3, random_state=42)"
      ]
    },
    {
      "cell_type": "code",
      "execution_count": 45,
      "metadata": {
        "colab": {
          "base_uri": "https://localhost:8080/",
          "height": 677
        },
        "id": "xLtvm3EO819V",
        "outputId": "1409c737-1f1c-49c0-a957-0199c1ed5c86"
      },
      "outputs": [
        {
          "data": {
            "text/html": [
              "<div>\n",
              "<style scoped>\n",
              "    .dataframe tbody tr th:only-of-type {\n",
              "        vertical-align: middle;\n",
              "    }\n",
              "\n",
              "    .dataframe tbody tr th {\n",
              "        vertical-align: top;\n",
              "    }\n",
              "\n",
              "    .dataframe thead th {\n",
              "        text-align: right;\n",
              "    }\n",
              "</style>\n",
              "<table border=\"1\" class=\"dataframe\">\n",
              "  <thead>\n",
              "    <tr style=\"text-align: right;\">\n",
              "      <th></th>\n",
              "      <th>workclass</th>\n",
              "      <th>education</th>\n",
              "      <th>occupation</th>\n",
              "      <th>capital-gain</th>\n",
              "      <th>capital-loss</th>\n",
              "      <th>hours-per-week</th>\n",
              "      <th>country</th>\n",
              "    </tr>\n",
              "  </thead>\n",
              "  <tbody>\n",
              "    <tr>\n",
              "      <th>29253</th>\n",
              "      <td>Private</td>\n",
              "      <td>HS-grad</td>\n",
              "      <td>Craft-repair</td>\n",
              "      <td>0</td>\n",
              "      <td>0</td>\n",
              "      <td>40</td>\n",
              "      <td>United-States</td>\n",
              "    </tr>\n",
              "    <tr>\n",
              "      <th>14267</th>\n",
              "      <td>Private</td>\n",
              "      <td>HS-grad</td>\n",
              "      <td>Handlers-cleaners</td>\n",
              "      <td>0</td>\n",
              "      <td>0</td>\n",
              "      <td>40</td>\n",
              "      <td>United-States</td>\n",
              "    </tr>\n",
              "    <tr>\n",
              "      <th>26021</th>\n",
              "      <td>Private</td>\n",
              "      <td>Bachelors</td>\n",
              "      <td>Exec-managerial</td>\n",
              "      <td>0</td>\n",
              "      <td>0</td>\n",
              "      <td>60</td>\n",
              "      <td>United-States</td>\n",
              "    </tr>\n",
              "    <tr>\n",
              "      <th>24278</th>\n",
              "      <td>Private</td>\n",
              "      <td>HS-grad</td>\n",
              "      <td>Other-service</td>\n",
              "      <td>0</td>\n",
              "      <td>0</td>\n",
              "      <td>32</td>\n",
              "      <td>United-States</td>\n",
              "    </tr>\n",
              "    <tr>\n",
              "      <th>4225</th>\n",
              "      <td>Self-emp-inc</td>\n",
              "      <td>HS-grad</td>\n",
              "      <td>Adm-clerical</td>\n",
              "      <td>0</td>\n",
              "      <td>0</td>\n",
              "      <td>38</td>\n",
              "      <td>United-States</td>\n",
              "    </tr>\n",
              "    <tr>\n",
              "      <th>30293</th>\n",
              "      <td>State-gov</td>\n",
              "      <td>Some-college</td>\n",
              "      <td>Adm-clerical</td>\n",
              "      <td>0</td>\n",
              "      <td>0</td>\n",
              "      <td>40</td>\n",
              "      <td>United-States</td>\n",
              "    </tr>\n",
              "    <tr>\n",
              "      <th>5243</th>\n",
              "      <td>Private</td>\n",
              "      <td>Assoc-voc</td>\n",
              "      <td>Prof-specialty</td>\n",
              "      <td>0</td>\n",
              "      <td>0</td>\n",
              "      <td>40</td>\n",
              "      <td>United-States</td>\n",
              "    </tr>\n",
              "    <tr>\n",
              "      <th>27206</th>\n",
              "      <td>Federal-gov</td>\n",
              "      <td>Bachelors</td>\n",
              "      <td>Exec-managerial</td>\n",
              "      <td>0</td>\n",
              "      <td>0</td>\n",
              "      <td>40</td>\n",
              "      <td>United-States</td>\n",
              "    </tr>\n",
              "    <tr>\n",
              "      <th>16071</th>\n",
              "      <td>State-gov</td>\n",
              "      <td>HS-grad</td>\n",
              "      <td>Craft-repair</td>\n",
              "      <td>0</td>\n",
              "      <td>0</td>\n",
              "      <td>40</td>\n",
              "      <td>United-States</td>\n",
              "    </tr>\n",
              "    <tr>\n",
              "      <th>3208</th>\n",
              "      <td>Private</td>\n",
              "      <td>10th</td>\n",
              "      <td>Machine-op-inspct</td>\n",
              "      <td>0</td>\n",
              "      <td>0</td>\n",
              "      <td>40</td>\n",
              "      <td>United-States</td>\n",
              "    </tr>\n",
              "    <tr>\n",
              "      <th>27406</th>\n",
              "      <td>Local-gov</td>\n",
              "      <td>HS-grad</td>\n",
              "      <td>Protective-serv</td>\n",
              "      <td>0</td>\n",
              "      <td>0</td>\n",
              "      <td>40</td>\n",
              "      <td>United-States</td>\n",
              "    </tr>\n",
              "    <tr>\n",
              "      <th>8247</th>\n",
              "      <td>Local-gov</td>\n",
              "      <td>Some-college</td>\n",
              "      <td>Adm-clerical</td>\n",
              "      <td>0</td>\n",
              "      <td>0</td>\n",
              "      <td>40</td>\n",
              "      <td>United-States</td>\n",
              "    </tr>\n",
              "    <tr>\n",
              "      <th>17054</th>\n",
              "      <td>Self-emp-not-inc</td>\n",
              "      <td>HS-grad</td>\n",
              "      <td>Exec-managerial</td>\n",
              "      <td>0</td>\n",
              "      <td>2559</td>\n",
              "      <td>50</td>\n",
              "      <td>United-States</td>\n",
              "    </tr>\n",
              "    <tr>\n",
              "      <th>22550</th>\n",
              "      <td>Private</td>\n",
              "      <td>HS-grad</td>\n",
              "      <td>Other-service</td>\n",
              "      <td>0</td>\n",
              "      <td>0</td>\n",
              "      <td>39</td>\n",
              "      <td>United-States</td>\n",
              "    </tr>\n",
              "    <tr>\n",
              "      <th>18308</th>\n",
              "      <td>Private</td>\n",
              "      <td>HS-grad</td>\n",
              "      <td>Craft-repair</td>\n",
              "      <td>0</td>\n",
              "      <td>0</td>\n",
              "      <td>40</td>\n",
              "      <td>United-States</td>\n",
              "    </tr>\n",
              "    <tr>\n",
              "      <th>17652</th>\n",
              "      <td>Private</td>\n",
              "      <td>Bachelors</td>\n",
              "      <td>Exec-managerial</td>\n",
              "      <td>0</td>\n",
              "      <td>0</td>\n",
              "      <td>40</td>\n",
              "      <td>United-States</td>\n",
              "    </tr>\n",
              "    <tr>\n",
              "      <th>18986</th>\n",
              "      <td>Self-emp-not-inc</td>\n",
              "      <td>Some-college</td>\n",
              "      <td>Craft-repair</td>\n",
              "      <td>0</td>\n",
              "      <td>0</td>\n",
              "      <td>48</td>\n",
              "      <td>United-States</td>\n",
              "    </tr>\n",
              "    <tr>\n",
              "      <th>5796</th>\n",
              "      <td>Federal-gov</td>\n",
              "      <td>Bachelors</td>\n",
              "      <td>Adm-clerical</td>\n",
              "      <td>0</td>\n",
              "      <td>0</td>\n",
              "      <td>45</td>\n",
              "      <td>Germany</td>\n",
              "    </tr>\n",
              "    <tr>\n",
              "      <th>12745</th>\n",
              "      <td>Private</td>\n",
              "      <td>Some-college</td>\n",
              "      <td>Sales</td>\n",
              "      <td>3103</td>\n",
              "      <td>0</td>\n",
              "      <td>50</td>\n",
              "      <td>United-States</td>\n",
              "    </tr>\n",
              "    <tr>\n",
              "      <th>14444</th>\n",
              "      <td>Private</td>\n",
              "      <td>HS-grad</td>\n",
              "      <td>Tech-support</td>\n",
              "      <td>0</td>\n",
              "      <td>0</td>\n",
              "      <td>40</td>\n",
              "      <td>United-States</td>\n",
              "    </tr>\n",
              "  </tbody>\n",
              "</table>\n",
              "</div>"
            ],
            "text/plain": [
              "               workclass      education          occupation  capital-gain  \\\n",
              "29253            Private        HS-grad        Craft-repair             0   \n",
              "14267            Private        HS-grad   Handlers-cleaners             0   \n",
              "26021            Private      Bachelors     Exec-managerial             0   \n",
              "24278            Private        HS-grad       Other-service             0   \n",
              "4225        Self-emp-inc        HS-grad        Adm-clerical             0   \n",
              "30293          State-gov   Some-college        Adm-clerical             0   \n",
              "5243             Private      Assoc-voc      Prof-specialty             0   \n",
              "27206        Federal-gov      Bachelors     Exec-managerial             0   \n",
              "16071          State-gov        HS-grad        Craft-repair             0   \n",
              "3208             Private           10th   Machine-op-inspct             0   \n",
              "27406          Local-gov        HS-grad     Protective-serv             0   \n",
              "8247           Local-gov   Some-college        Adm-clerical             0   \n",
              "17054   Self-emp-not-inc        HS-grad     Exec-managerial             0   \n",
              "22550            Private        HS-grad       Other-service             0   \n",
              "18308            Private        HS-grad        Craft-repair             0   \n",
              "17652            Private      Bachelors     Exec-managerial             0   \n",
              "18986   Self-emp-not-inc   Some-college        Craft-repair             0   \n",
              "5796         Federal-gov      Bachelors        Adm-clerical             0   \n",
              "12745            Private   Some-college               Sales          3103   \n",
              "14444            Private        HS-grad        Tech-support             0   \n",
              "\n",
              "       capital-loss  hours-per-week         country  \n",
              "29253             0              40   United-States  \n",
              "14267             0              40   United-States  \n",
              "26021             0              60   United-States  \n",
              "24278             0              32   United-States  \n",
              "4225              0              38   United-States  \n",
              "30293             0              40   United-States  \n",
              "5243              0              40   United-States  \n",
              "27206             0              40   United-States  \n",
              "16071             0              40   United-States  \n",
              "3208              0              40   United-States  \n",
              "27406             0              40   United-States  \n",
              "8247              0              40   United-States  \n",
              "17054          2559              50   United-States  \n",
              "22550             0              39   United-States  \n",
              "18308             0              40   United-States  \n",
              "17652             0              40   United-States  \n",
              "18986             0              48   United-States  \n",
              "5796              0              45         Germany  \n",
              "12745             0              50   United-States  \n",
              "14444             0              40   United-States  "
            ]
          },
          "execution_count": 45,
          "metadata": {},
          "output_type": "execute_result"
        }
      ],
      "source": [
        "X_train.head(20)"
      ]
    },
    {
      "cell_type": "code",
      "execution_count": 46,
      "metadata": {
        "colab": {
          "base_uri": "https://localhost:8080/",
          "height": 677
        },
        "id": "PFbzKUsQ81xK",
        "outputId": "80dabe52-b70d-47a8-a30b-bc6eedc980a6"
      },
      "outputs": [
        {
          "data": {
            "text/html": [
              "<div>\n",
              "<style scoped>\n",
              "    .dataframe tbody tr th:only-of-type {\n",
              "        vertical-align: middle;\n",
              "    }\n",
              "\n",
              "    .dataframe tbody tr th {\n",
              "        vertical-align: top;\n",
              "    }\n",
              "\n",
              "    .dataframe thead th {\n",
              "        text-align: right;\n",
              "    }\n",
              "</style>\n",
              "<table border=\"1\" class=\"dataframe\">\n",
              "  <thead>\n",
              "    <tr style=\"text-align: right;\">\n",
              "      <th></th>\n",
              "      <th>workclass</th>\n",
              "      <th>education</th>\n",
              "      <th>occupation</th>\n",
              "      <th>capital-gain</th>\n",
              "      <th>capital-loss</th>\n",
              "      <th>hours-per-week</th>\n",
              "      <th>country</th>\n",
              "    </tr>\n",
              "  </thead>\n",
              "  <tbody>\n",
              "    <tr>\n",
              "      <th>234</th>\n",
              "      <td>Private</td>\n",
              "      <td>Prof-school</td>\n",
              "      <td>Prof-specialty</td>\n",
              "      <td>0</td>\n",
              "      <td>0</td>\n",
              "      <td>55</td>\n",
              "      <td>United-States</td>\n",
              "    </tr>\n",
              "    <tr>\n",
              "      <th>26879</th>\n",
              "      <td>Private</td>\n",
              "      <td>HS-grad</td>\n",
              "      <td>Craft-repair</td>\n",
              "      <td>0</td>\n",
              "      <td>0</td>\n",
              "      <td>40</td>\n",
              "      <td>Taiwan</td>\n",
              "    </tr>\n",
              "    <tr>\n",
              "      <th>19182</th>\n",
              "      <td>Private</td>\n",
              "      <td>HS-grad</td>\n",
              "      <td>Other-service</td>\n",
              "      <td>0</td>\n",
              "      <td>0</td>\n",
              "      <td>50</td>\n",
              "      <td>Germany</td>\n",
              "    </tr>\n",
              "    <tr>\n",
              "      <th>13485</th>\n",
              "      <td>Private</td>\n",
              "      <td>HS-grad</td>\n",
              "      <td>Craft-repair</td>\n",
              "      <td>0</td>\n",
              "      <td>0</td>\n",
              "      <td>45</td>\n",
              "      <td>United-States</td>\n",
              "    </tr>\n",
              "    <tr>\n",
              "      <th>9625</th>\n",
              "      <td>Local-gov</td>\n",
              "      <td>Bachelors</td>\n",
              "      <td>Prof-specialty</td>\n",
              "      <td>0</td>\n",
              "      <td>0</td>\n",
              "      <td>40</td>\n",
              "      <td>United-States</td>\n",
              "    </tr>\n",
              "    <tr>\n",
              "      <th>17085</th>\n",
              "      <td>Private</td>\n",
              "      <td>HS-grad</td>\n",
              "      <td>Transport-moving</td>\n",
              "      <td>0</td>\n",
              "      <td>0</td>\n",
              "      <td>40</td>\n",
              "      <td>United-States</td>\n",
              "    </tr>\n",
              "    <tr>\n",
              "      <th>24912</th>\n",
              "      <td>Private</td>\n",
              "      <td>HS-grad</td>\n",
              "      <td>Adm-clerical</td>\n",
              "      <td>0</td>\n",
              "      <td>0</td>\n",
              "      <td>40</td>\n",
              "      <td>United-States</td>\n",
              "    </tr>\n",
              "    <tr>\n",
              "      <th>23604</th>\n",
              "      <td>Private</td>\n",
              "      <td>Some-college</td>\n",
              "      <td>Exec-managerial</td>\n",
              "      <td>0</td>\n",
              "      <td>0</td>\n",
              "      <td>40</td>\n",
              "      <td>United-States</td>\n",
              "    </tr>\n",
              "    <tr>\n",
              "      <th>9216</th>\n",
              "      <td>Private</td>\n",
              "      <td>HS-grad</td>\n",
              "      <td>Sales</td>\n",
              "      <td>0</td>\n",
              "      <td>0</td>\n",
              "      <td>15</td>\n",
              "      <td>Mexico</td>\n",
              "    </tr>\n",
              "    <tr>\n",
              "      <th>17043</th>\n",
              "      <td>Private</td>\n",
              "      <td>Some-college</td>\n",
              "      <td>Prof-specialty</td>\n",
              "      <td>0</td>\n",
              "      <td>0</td>\n",
              "      <td>50</td>\n",
              "      <td>United-States</td>\n",
              "    </tr>\n",
              "    <tr>\n",
              "      <th>23693</th>\n",
              "      <td>Private</td>\n",
              "      <td>HS-grad</td>\n",
              "      <td>Exec-managerial</td>\n",
              "      <td>0</td>\n",
              "      <td>0</td>\n",
              "      <td>40</td>\n",
              "      <td>United-States</td>\n",
              "    </tr>\n",
              "    <tr>\n",
              "      <th>2311</th>\n",
              "      <td>Private</td>\n",
              "      <td>Some-college</td>\n",
              "      <td>Prof-specialty</td>\n",
              "      <td>0</td>\n",
              "      <td>0</td>\n",
              "      <td>40</td>\n",
              "      <td>United-States</td>\n",
              "    </tr>\n",
              "    <tr>\n",
              "      <th>24842</th>\n",
              "      <td>Private</td>\n",
              "      <td>7th-8th</td>\n",
              "      <td>Other-service</td>\n",
              "      <td>0</td>\n",
              "      <td>0</td>\n",
              "      <td>10</td>\n",
              "      <td>United-States</td>\n",
              "    </tr>\n",
              "    <tr>\n",
              "      <th>8640</th>\n",
              "      <td>Private</td>\n",
              "      <td>Some-college</td>\n",
              "      <td>Other-service</td>\n",
              "      <td>0</td>\n",
              "      <td>0</td>\n",
              "      <td>35</td>\n",
              "      <td>United-States</td>\n",
              "    </tr>\n",
              "    <tr>\n",
              "      <th>5217</th>\n",
              "      <td>Private</td>\n",
              "      <td>HS-grad</td>\n",
              "      <td>Craft-repair</td>\n",
              "      <td>0</td>\n",
              "      <td>0</td>\n",
              "      <td>40</td>\n",
              "      <td>United-States</td>\n",
              "    </tr>\n",
              "    <tr>\n",
              "      <th>15834</th>\n",
              "      <td>Private</td>\n",
              "      <td>Masters</td>\n",
              "      <td>Machine-op-inspct</td>\n",
              "      <td>0</td>\n",
              "      <td>0</td>\n",
              "      <td>40</td>\n",
              "      <td>Mexico</td>\n",
              "    </tr>\n",
              "    <tr>\n",
              "      <th>18687</th>\n",
              "      <td>Private</td>\n",
              "      <td>Some-college</td>\n",
              "      <td>Exec-managerial</td>\n",
              "      <td>0</td>\n",
              "      <td>0</td>\n",
              "      <td>60</td>\n",
              "      <td>United-States</td>\n",
              "    </tr>\n",
              "    <tr>\n",
              "      <th>7055</th>\n",
              "      <td>Private</td>\n",
              "      <td>HS-grad</td>\n",
              "      <td>Adm-clerical</td>\n",
              "      <td>0</td>\n",
              "      <td>0</td>\n",
              "      <td>35</td>\n",
              "      <td>United-States</td>\n",
              "    </tr>\n",
              "    <tr>\n",
              "      <th>8832</th>\n",
              "      <td>State-gov</td>\n",
              "      <td>Masters</td>\n",
              "      <td>Prof-specialty</td>\n",
              "      <td>0</td>\n",
              "      <td>0</td>\n",
              "      <td>40</td>\n",
              "      <td>United-States</td>\n",
              "    </tr>\n",
              "    <tr>\n",
              "      <th>32018</th>\n",
              "      <td>Private</td>\n",
              "      <td>11th</td>\n",
              "      <td>Adm-clerical</td>\n",
              "      <td>0</td>\n",
              "      <td>0</td>\n",
              "      <td>5</td>\n",
              "      <td>United-States</td>\n",
              "    </tr>\n",
              "  </tbody>\n",
              "</table>\n",
              "</div>"
            ],
            "text/plain": [
              "        workclass      education          occupation  capital-gain  \\\n",
              "234       Private    Prof-school      Prof-specialty             0   \n",
              "26879     Private        HS-grad        Craft-repair             0   \n",
              "19182     Private        HS-grad       Other-service             0   \n",
              "13485     Private        HS-grad        Craft-repair             0   \n",
              "9625    Local-gov      Bachelors      Prof-specialty             0   \n",
              "17085     Private        HS-grad    Transport-moving             0   \n",
              "24912     Private        HS-grad        Adm-clerical             0   \n",
              "23604     Private   Some-college     Exec-managerial             0   \n",
              "9216      Private        HS-grad               Sales             0   \n",
              "17043     Private   Some-college      Prof-specialty             0   \n",
              "23693     Private        HS-grad     Exec-managerial             0   \n",
              "2311      Private   Some-college      Prof-specialty             0   \n",
              "24842     Private        7th-8th       Other-service             0   \n",
              "8640      Private   Some-college       Other-service             0   \n",
              "5217      Private        HS-grad        Craft-repair             0   \n",
              "15834     Private        Masters   Machine-op-inspct             0   \n",
              "18687     Private   Some-college     Exec-managerial             0   \n",
              "7055      Private        HS-grad        Adm-clerical             0   \n",
              "8832    State-gov        Masters      Prof-specialty             0   \n",
              "32018     Private           11th        Adm-clerical             0   \n",
              "\n",
              "       capital-loss  hours-per-week         country  \n",
              "234               0              55   United-States  \n",
              "26879             0              40          Taiwan  \n",
              "19182             0              50         Germany  \n",
              "13485             0              45   United-States  \n",
              "9625              0              40   United-States  \n",
              "17085             0              40   United-States  \n",
              "24912             0              40   United-States  \n",
              "23604             0              40   United-States  \n",
              "9216              0              15          Mexico  \n",
              "17043             0              50   United-States  \n",
              "23693             0              40   United-States  \n",
              "2311              0              40   United-States  \n",
              "24842             0              10   United-States  \n",
              "8640              0              35   United-States  \n",
              "5217              0              40   United-States  \n",
              "15834             0              40          Mexico  \n",
              "18687             0              60   United-States  \n",
              "7055              0              35   United-States  \n",
              "8832              0              40   United-States  \n",
              "32018             0               5   United-States  "
            ]
          },
          "execution_count": 46,
          "metadata": {},
          "output_type": "execute_result"
        }
      ],
      "source": [
        "X_test.head(20)"
      ]
    },
    {
      "cell_type": "code",
      "execution_count": null,
      "metadata": {
        "id": "YMgKBAVo7Yo5"
      },
      "outputs": [],
      "source": []
    },
    {
      "cell_type": "code",
      "execution_count": null,
      "metadata": {
        "id": "1nKb-eig7YkR"
      },
      "outputs": [],
      "source": []
    },
    {
      "cell_type": "code",
      "execution_count": null,
      "metadata": {
        "id": "Uzh5L5Pn7Yjc"
      },
      "outputs": [],
      "source": []
    },
    {
      "cell_type": "code",
      "execution_count": null,
      "metadata": {
        "id": "4BL6FzWU7Rd0"
      },
      "outputs": [],
      "source": []
    },
    {
      "cell_type": "code",
      "execution_count": 47,
      "metadata": {
        "id": "8mCsEnffPHJD"
      },
      "outputs": [],
      "source": [
        "from sklearn.preprocessing import OrdinalEncoder\n",
        "\n",
        "custom_order1 =[\n",
        "    \" Preschool\",\n",
        "    \" 1st-4th\",\n",
        "    \" 5th-6th\",\n",
        "    \" 7th-8th\",\n",
        "    \" 9th\",\n",
        "    \" 10th\",\n",
        "    \" 11th\",\n",
        "    \" 12th\",\n",
        "    \" HS-grad\",\n",
        "    \" Some-college\",\n",
        "    \" Assoc-acdm\",\n",
        "    \" Assoc-voc\",\n",
        "    \" Bachelors\",\n",
        "    \" Masters\",\n",
        "    \" Doctorate\",\n",
        "    \" Prof-school\"\n",
        "]\n",
        "encoder1 = OrdinalEncoder(categories=[custom_order1])\n",
        "X_train['education_e'] = encoder1.fit_transform(X_train['education'].values.reshape(-1,1))\n",
        "X_test['education_e'] = encoder1.transform(X_test['education'].values.reshape(-1,1))"
      ]
    },
    {
      "cell_type": "code",
      "execution_count": 48,
      "metadata": {
        "colab": {
          "base_uri": "https://localhost:8080/",
          "height": 677
        },
        "id": "WMMCyLEzPHEz",
        "outputId": "fe3c8c72-698d-47a4-bcfd-a32c0ca3a824"
      },
      "outputs": [
        {
          "data": {
            "text/html": [
              "<div>\n",
              "<style scoped>\n",
              "    .dataframe tbody tr th:only-of-type {\n",
              "        vertical-align: middle;\n",
              "    }\n",
              "\n",
              "    .dataframe tbody tr th {\n",
              "        vertical-align: top;\n",
              "    }\n",
              "\n",
              "    .dataframe thead th {\n",
              "        text-align: right;\n",
              "    }\n",
              "</style>\n",
              "<table border=\"1\" class=\"dataframe\">\n",
              "  <thead>\n",
              "    <tr style=\"text-align: right;\">\n",
              "      <th></th>\n",
              "      <th>workclass</th>\n",
              "      <th>education</th>\n",
              "      <th>occupation</th>\n",
              "      <th>capital-gain</th>\n",
              "      <th>capital-loss</th>\n",
              "      <th>hours-per-week</th>\n",
              "      <th>country</th>\n",
              "      <th>education_e</th>\n",
              "    </tr>\n",
              "  </thead>\n",
              "  <tbody>\n",
              "    <tr>\n",
              "      <th>29253</th>\n",
              "      <td>Private</td>\n",
              "      <td>HS-grad</td>\n",
              "      <td>Craft-repair</td>\n",
              "      <td>0</td>\n",
              "      <td>0</td>\n",
              "      <td>40</td>\n",
              "      <td>United-States</td>\n",
              "      <td>8.0</td>\n",
              "    </tr>\n",
              "    <tr>\n",
              "      <th>14267</th>\n",
              "      <td>Private</td>\n",
              "      <td>HS-grad</td>\n",
              "      <td>Handlers-cleaners</td>\n",
              "      <td>0</td>\n",
              "      <td>0</td>\n",
              "      <td>40</td>\n",
              "      <td>United-States</td>\n",
              "      <td>8.0</td>\n",
              "    </tr>\n",
              "    <tr>\n",
              "      <th>26021</th>\n",
              "      <td>Private</td>\n",
              "      <td>Bachelors</td>\n",
              "      <td>Exec-managerial</td>\n",
              "      <td>0</td>\n",
              "      <td>0</td>\n",
              "      <td>60</td>\n",
              "      <td>United-States</td>\n",
              "      <td>12.0</td>\n",
              "    </tr>\n",
              "    <tr>\n",
              "      <th>24278</th>\n",
              "      <td>Private</td>\n",
              "      <td>HS-grad</td>\n",
              "      <td>Other-service</td>\n",
              "      <td>0</td>\n",
              "      <td>0</td>\n",
              "      <td>32</td>\n",
              "      <td>United-States</td>\n",
              "      <td>8.0</td>\n",
              "    </tr>\n",
              "    <tr>\n",
              "      <th>4225</th>\n",
              "      <td>Self-emp-inc</td>\n",
              "      <td>HS-grad</td>\n",
              "      <td>Adm-clerical</td>\n",
              "      <td>0</td>\n",
              "      <td>0</td>\n",
              "      <td>38</td>\n",
              "      <td>United-States</td>\n",
              "      <td>8.0</td>\n",
              "    </tr>\n",
              "    <tr>\n",
              "      <th>30293</th>\n",
              "      <td>State-gov</td>\n",
              "      <td>Some-college</td>\n",
              "      <td>Adm-clerical</td>\n",
              "      <td>0</td>\n",
              "      <td>0</td>\n",
              "      <td>40</td>\n",
              "      <td>United-States</td>\n",
              "      <td>9.0</td>\n",
              "    </tr>\n",
              "    <tr>\n",
              "      <th>5243</th>\n",
              "      <td>Private</td>\n",
              "      <td>Assoc-voc</td>\n",
              "      <td>Prof-specialty</td>\n",
              "      <td>0</td>\n",
              "      <td>0</td>\n",
              "      <td>40</td>\n",
              "      <td>United-States</td>\n",
              "      <td>11.0</td>\n",
              "    </tr>\n",
              "    <tr>\n",
              "      <th>27206</th>\n",
              "      <td>Federal-gov</td>\n",
              "      <td>Bachelors</td>\n",
              "      <td>Exec-managerial</td>\n",
              "      <td>0</td>\n",
              "      <td>0</td>\n",
              "      <td>40</td>\n",
              "      <td>United-States</td>\n",
              "      <td>12.0</td>\n",
              "    </tr>\n",
              "    <tr>\n",
              "      <th>16071</th>\n",
              "      <td>State-gov</td>\n",
              "      <td>HS-grad</td>\n",
              "      <td>Craft-repair</td>\n",
              "      <td>0</td>\n",
              "      <td>0</td>\n",
              "      <td>40</td>\n",
              "      <td>United-States</td>\n",
              "      <td>8.0</td>\n",
              "    </tr>\n",
              "    <tr>\n",
              "      <th>3208</th>\n",
              "      <td>Private</td>\n",
              "      <td>10th</td>\n",
              "      <td>Machine-op-inspct</td>\n",
              "      <td>0</td>\n",
              "      <td>0</td>\n",
              "      <td>40</td>\n",
              "      <td>United-States</td>\n",
              "      <td>5.0</td>\n",
              "    </tr>\n",
              "    <tr>\n",
              "      <th>27406</th>\n",
              "      <td>Local-gov</td>\n",
              "      <td>HS-grad</td>\n",
              "      <td>Protective-serv</td>\n",
              "      <td>0</td>\n",
              "      <td>0</td>\n",
              "      <td>40</td>\n",
              "      <td>United-States</td>\n",
              "      <td>8.0</td>\n",
              "    </tr>\n",
              "    <tr>\n",
              "      <th>8247</th>\n",
              "      <td>Local-gov</td>\n",
              "      <td>Some-college</td>\n",
              "      <td>Adm-clerical</td>\n",
              "      <td>0</td>\n",
              "      <td>0</td>\n",
              "      <td>40</td>\n",
              "      <td>United-States</td>\n",
              "      <td>9.0</td>\n",
              "    </tr>\n",
              "    <tr>\n",
              "      <th>17054</th>\n",
              "      <td>Self-emp-not-inc</td>\n",
              "      <td>HS-grad</td>\n",
              "      <td>Exec-managerial</td>\n",
              "      <td>0</td>\n",
              "      <td>2559</td>\n",
              "      <td>50</td>\n",
              "      <td>United-States</td>\n",
              "      <td>8.0</td>\n",
              "    </tr>\n",
              "    <tr>\n",
              "      <th>22550</th>\n",
              "      <td>Private</td>\n",
              "      <td>HS-grad</td>\n",
              "      <td>Other-service</td>\n",
              "      <td>0</td>\n",
              "      <td>0</td>\n",
              "      <td>39</td>\n",
              "      <td>United-States</td>\n",
              "      <td>8.0</td>\n",
              "    </tr>\n",
              "    <tr>\n",
              "      <th>18308</th>\n",
              "      <td>Private</td>\n",
              "      <td>HS-grad</td>\n",
              "      <td>Craft-repair</td>\n",
              "      <td>0</td>\n",
              "      <td>0</td>\n",
              "      <td>40</td>\n",
              "      <td>United-States</td>\n",
              "      <td>8.0</td>\n",
              "    </tr>\n",
              "    <tr>\n",
              "      <th>17652</th>\n",
              "      <td>Private</td>\n",
              "      <td>Bachelors</td>\n",
              "      <td>Exec-managerial</td>\n",
              "      <td>0</td>\n",
              "      <td>0</td>\n",
              "      <td>40</td>\n",
              "      <td>United-States</td>\n",
              "      <td>12.0</td>\n",
              "    </tr>\n",
              "    <tr>\n",
              "      <th>18986</th>\n",
              "      <td>Self-emp-not-inc</td>\n",
              "      <td>Some-college</td>\n",
              "      <td>Craft-repair</td>\n",
              "      <td>0</td>\n",
              "      <td>0</td>\n",
              "      <td>48</td>\n",
              "      <td>United-States</td>\n",
              "      <td>9.0</td>\n",
              "    </tr>\n",
              "    <tr>\n",
              "      <th>5796</th>\n",
              "      <td>Federal-gov</td>\n",
              "      <td>Bachelors</td>\n",
              "      <td>Adm-clerical</td>\n",
              "      <td>0</td>\n",
              "      <td>0</td>\n",
              "      <td>45</td>\n",
              "      <td>Germany</td>\n",
              "      <td>12.0</td>\n",
              "    </tr>\n",
              "    <tr>\n",
              "      <th>12745</th>\n",
              "      <td>Private</td>\n",
              "      <td>Some-college</td>\n",
              "      <td>Sales</td>\n",
              "      <td>3103</td>\n",
              "      <td>0</td>\n",
              "      <td>50</td>\n",
              "      <td>United-States</td>\n",
              "      <td>9.0</td>\n",
              "    </tr>\n",
              "    <tr>\n",
              "      <th>14444</th>\n",
              "      <td>Private</td>\n",
              "      <td>HS-grad</td>\n",
              "      <td>Tech-support</td>\n",
              "      <td>0</td>\n",
              "      <td>0</td>\n",
              "      <td>40</td>\n",
              "      <td>United-States</td>\n",
              "      <td>8.0</td>\n",
              "    </tr>\n",
              "  </tbody>\n",
              "</table>\n",
              "</div>"
            ],
            "text/plain": [
              "               workclass      education          occupation  capital-gain  \\\n",
              "29253            Private        HS-grad        Craft-repair             0   \n",
              "14267            Private        HS-grad   Handlers-cleaners             0   \n",
              "26021            Private      Bachelors     Exec-managerial             0   \n",
              "24278            Private        HS-grad       Other-service             0   \n",
              "4225        Self-emp-inc        HS-grad        Adm-clerical             0   \n",
              "30293          State-gov   Some-college        Adm-clerical             0   \n",
              "5243             Private      Assoc-voc      Prof-specialty             0   \n",
              "27206        Federal-gov      Bachelors     Exec-managerial             0   \n",
              "16071          State-gov        HS-grad        Craft-repair             0   \n",
              "3208             Private           10th   Machine-op-inspct             0   \n",
              "27406          Local-gov        HS-grad     Protective-serv             0   \n",
              "8247           Local-gov   Some-college        Adm-clerical             0   \n",
              "17054   Self-emp-not-inc        HS-grad     Exec-managerial             0   \n",
              "22550            Private        HS-grad       Other-service             0   \n",
              "18308            Private        HS-grad        Craft-repair             0   \n",
              "17652            Private      Bachelors     Exec-managerial             0   \n",
              "18986   Self-emp-not-inc   Some-college        Craft-repair             0   \n",
              "5796         Federal-gov      Bachelors        Adm-clerical             0   \n",
              "12745            Private   Some-college               Sales          3103   \n",
              "14444            Private        HS-grad        Tech-support             0   \n",
              "\n",
              "       capital-loss  hours-per-week         country  education_e  \n",
              "29253             0              40   United-States          8.0  \n",
              "14267             0              40   United-States          8.0  \n",
              "26021             0              60   United-States         12.0  \n",
              "24278             0              32   United-States          8.0  \n",
              "4225              0              38   United-States          8.0  \n",
              "30293             0              40   United-States          9.0  \n",
              "5243              0              40   United-States         11.0  \n",
              "27206             0              40   United-States         12.0  \n",
              "16071             0              40   United-States          8.0  \n",
              "3208              0              40   United-States          5.0  \n",
              "27406             0              40   United-States          8.0  \n",
              "8247              0              40   United-States          9.0  \n",
              "17054          2559              50   United-States          8.0  \n",
              "22550             0              39   United-States          8.0  \n",
              "18308             0              40   United-States          8.0  \n",
              "17652             0              40   United-States         12.0  \n",
              "18986             0              48   United-States          9.0  \n",
              "5796              0              45         Germany         12.0  \n",
              "12745             0              50   United-States          9.0  \n",
              "14444             0              40   United-States          8.0  "
            ]
          },
          "execution_count": 48,
          "metadata": {},
          "output_type": "execute_result"
        }
      ],
      "source": [
        "X_train.head(20)"
      ]
    },
    {
      "cell_type": "code",
      "execution_count": 49,
      "metadata": {
        "colab": {
          "base_uri": "https://localhost:8080/"
        },
        "id": "uTyefpfYCiRj",
        "outputId": "f61c1f66-e270-4e7a-aa7e-67b564e94785"
      },
      "outputs": [
        {
          "name": "stdout",
          "output_type": "stream",
          "text": [
            "[' State-gov' ' Self-emp-not-inc' ' Private' ' Federal-gov' ' Local-gov'\n",
            " nan ' Self-emp-inc' ' Without-pay' ' Never-worked']\n"
          ]
        }
      ],
      "source": [
        "print(data['workclass'].unique())"
      ]
    },
    {
      "cell_type": "code",
      "execution_count": 50,
      "metadata": {
        "id": "7IPIEbjYPHBE"
      },
      "outputs": [],
      "source": [
        "    custom_order2=[\" Never-worked\",\" Without-pay\",\" Federal-gov\",\" Self-emp-inc\",\" State-gov\",\" Local-gov\",\" Self-emp-not-inc\",\" Private\"]\n",
        "\n",
        "encoder2 = OrdinalEncoder(categories=[custom_order2])\n",
        "X_train['workclass_e'] = encoder2.fit_transform(X_train['workclass'].values.reshape(-1,1))\n",
        "X_test['workclass_e'] = encoder2.transform(X_test['workclass'].values.reshape(-1,1))"
      ]
    },
    {
      "cell_type": "code",
      "execution_count": 51,
      "metadata": {
        "colab": {
          "base_uri": "https://localhost:8080/",
          "height": 206
        },
        "id": "pVaiObpqPG8D",
        "outputId": "7a0002bb-2a0b-42e4-c80b-ffd8067ccb5f"
      },
      "outputs": [
        {
          "data": {
            "text/html": [
              "<div>\n",
              "<style scoped>\n",
              "    .dataframe tbody tr th:only-of-type {\n",
              "        vertical-align: middle;\n",
              "    }\n",
              "\n",
              "    .dataframe tbody tr th {\n",
              "        vertical-align: top;\n",
              "    }\n",
              "\n",
              "    .dataframe thead th {\n",
              "        text-align: right;\n",
              "    }\n",
              "</style>\n",
              "<table border=\"1\" class=\"dataframe\">\n",
              "  <thead>\n",
              "    <tr style=\"text-align: right;\">\n",
              "      <th></th>\n",
              "      <th>workclass</th>\n",
              "      <th>education</th>\n",
              "      <th>occupation</th>\n",
              "      <th>capital-gain</th>\n",
              "      <th>capital-loss</th>\n",
              "      <th>hours-per-week</th>\n",
              "      <th>country</th>\n",
              "      <th>education_e</th>\n",
              "      <th>workclass_e</th>\n",
              "    </tr>\n",
              "  </thead>\n",
              "  <tbody>\n",
              "    <tr>\n",
              "      <th>234</th>\n",
              "      <td>Private</td>\n",
              "      <td>Prof-school</td>\n",
              "      <td>Prof-specialty</td>\n",
              "      <td>0</td>\n",
              "      <td>0</td>\n",
              "      <td>55</td>\n",
              "      <td>United-States</td>\n",
              "      <td>15.0</td>\n",
              "      <td>7.0</td>\n",
              "    </tr>\n",
              "    <tr>\n",
              "      <th>26879</th>\n",
              "      <td>Private</td>\n",
              "      <td>HS-grad</td>\n",
              "      <td>Craft-repair</td>\n",
              "      <td>0</td>\n",
              "      <td>0</td>\n",
              "      <td>40</td>\n",
              "      <td>Taiwan</td>\n",
              "      <td>8.0</td>\n",
              "      <td>7.0</td>\n",
              "    </tr>\n",
              "    <tr>\n",
              "      <th>19182</th>\n",
              "      <td>Private</td>\n",
              "      <td>HS-grad</td>\n",
              "      <td>Other-service</td>\n",
              "      <td>0</td>\n",
              "      <td>0</td>\n",
              "      <td>50</td>\n",
              "      <td>Germany</td>\n",
              "      <td>8.0</td>\n",
              "      <td>7.0</td>\n",
              "    </tr>\n",
              "    <tr>\n",
              "      <th>13485</th>\n",
              "      <td>Private</td>\n",
              "      <td>HS-grad</td>\n",
              "      <td>Craft-repair</td>\n",
              "      <td>0</td>\n",
              "      <td>0</td>\n",
              "      <td>45</td>\n",
              "      <td>United-States</td>\n",
              "      <td>8.0</td>\n",
              "      <td>7.0</td>\n",
              "    </tr>\n",
              "    <tr>\n",
              "      <th>9625</th>\n",
              "      <td>Local-gov</td>\n",
              "      <td>Bachelors</td>\n",
              "      <td>Prof-specialty</td>\n",
              "      <td>0</td>\n",
              "      <td>0</td>\n",
              "      <td>40</td>\n",
              "      <td>United-States</td>\n",
              "      <td>12.0</td>\n",
              "      <td>5.0</td>\n",
              "    </tr>\n",
              "  </tbody>\n",
              "</table>\n",
              "</div>"
            ],
            "text/plain": [
              "        workclass     education       occupation  capital-gain  capital-loss  \\\n",
              "234       Private   Prof-school   Prof-specialty             0             0   \n",
              "26879     Private       HS-grad     Craft-repair             0             0   \n",
              "19182     Private       HS-grad    Other-service             0             0   \n",
              "13485     Private       HS-grad     Craft-repair             0             0   \n",
              "9625    Local-gov     Bachelors   Prof-specialty             0             0   \n",
              "\n",
              "       hours-per-week         country  education_e  workclass_e  \n",
              "234                55   United-States         15.0          7.0  \n",
              "26879              40          Taiwan          8.0          7.0  \n",
              "19182              50         Germany          8.0          7.0  \n",
              "13485              45   United-States          8.0          7.0  \n",
              "9625               40   United-States         12.0          5.0  "
            ]
          },
          "execution_count": 51,
          "metadata": {},
          "output_type": "execute_result"
        }
      ],
      "source": [
        "X_test.head()"
      ]
    },
    {
      "cell_type": "code",
      "execution_count": 52,
      "metadata": {
        "colab": {
          "base_uri": "https://localhost:8080/"
        },
        "id": "ijqnYtnZPG4j",
        "outputId": "ee88717f-1613-496e-9402-7140591375b9"
      },
      "outputs": [
        {
          "name": "stdout",
          "output_type": "stream",
          "text": [
            "[' Adm-clerical' ' Exec-managerial' ' Handlers-cleaners' ' Prof-specialty'\n",
            " ' Other-service' ' Sales' ' Transport-moving' ' Farming-fishing'\n",
            " ' Machine-op-inspct' ' Tech-support' ' Craft-repair' ' Protective-serv'\n",
            " ' Armed-Forces' ' Priv-house-serv']\n"
          ]
        }
      ],
      "source": [
        "print(newdata['occupation'].unique())"
      ]
    },
    {
      "cell_type": "code",
      "execution_count": 53,
      "metadata": {
        "id": "kZW9invVGgc_"
      },
      "outputs": [],
      "source": [
        "from sklearn.preprocessing import LabelEncoder\n",
        "encoder3=LabelEncoder()\n",
        "X_train['occupation_e']=encoder3.fit_transform(X_train['occupation'])\n",
        "X_test['occupation_e']=encoder3.transform(X_test['occupation'])"
      ]
    },
    {
      "cell_type": "code",
      "execution_count": 54,
      "metadata": {
        "colab": {
          "base_uri": "https://localhost:8080/",
          "height": 250
        },
        "id": "HRe9qT4VRhKQ",
        "outputId": "ce2a06b8-57fc-4646-9ecd-54e52062fa04"
      },
      "outputs": [
        {
          "data": {
            "text/html": [
              "<div>\n",
              "<style scoped>\n",
              "    .dataframe tbody tr th:only-of-type {\n",
              "        vertical-align: middle;\n",
              "    }\n",
              "\n",
              "    .dataframe tbody tr th {\n",
              "        vertical-align: top;\n",
              "    }\n",
              "\n",
              "    .dataframe thead th {\n",
              "        text-align: right;\n",
              "    }\n",
              "</style>\n",
              "<table border=\"1\" class=\"dataframe\">\n",
              "  <thead>\n",
              "    <tr style=\"text-align: right;\">\n",
              "      <th></th>\n",
              "      <th>workclass</th>\n",
              "      <th>education</th>\n",
              "      <th>occupation</th>\n",
              "      <th>capital-gain</th>\n",
              "      <th>capital-loss</th>\n",
              "      <th>hours-per-week</th>\n",
              "      <th>country</th>\n",
              "      <th>education_e</th>\n",
              "      <th>workclass_e</th>\n",
              "      <th>occupation_e</th>\n",
              "    </tr>\n",
              "  </thead>\n",
              "  <tbody>\n",
              "    <tr>\n",
              "      <th>234</th>\n",
              "      <td>Private</td>\n",
              "      <td>Prof-school</td>\n",
              "      <td>Prof-specialty</td>\n",
              "      <td>0</td>\n",
              "      <td>0</td>\n",
              "      <td>55</td>\n",
              "      <td>United-States</td>\n",
              "      <td>15.0</td>\n",
              "      <td>7.0</td>\n",
              "      <td>9</td>\n",
              "    </tr>\n",
              "    <tr>\n",
              "      <th>26879</th>\n",
              "      <td>Private</td>\n",
              "      <td>HS-grad</td>\n",
              "      <td>Craft-repair</td>\n",
              "      <td>0</td>\n",
              "      <td>0</td>\n",
              "      <td>40</td>\n",
              "      <td>Taiwan</td>\n",
              "      <td>8.0</td>\n",
              "      <td>7.0</td>\n",
              "      <td>2</td>\n",
              "    </tr>\n",
              "    <tr>\n",
              "      <th>19182</th>\n",
              "      <td>Private</td>\n",
              "      <td>HS-grad</td>\n",
              "      <td>Other-service</td>\n",
              "      <td>0</td>\n",
              "      <td>0</td>\n",
              "      <td>50</td>\n",
              "      <td>Germany</td>\n",
              "      <td>8.0</td>\n",
              "      <td>7.0</td>\n",
              "      <td>7</td>\n",
              "    </tr>\n",
              "    <tr>\n",
              "      <th>13485</th>\n",
              "      <td>Private</td>\n",
              "      <td>HS-grad</td>\n",
              "      <td>Craft-repair</td>\n",
              "      <td>0</td>\n",
              "      <td>0</td>\n",
              "      <td>45</td>\n",
              "      <td>United-States</td>\n",
              "      <td>8.0</td>\n",
              "      <td>7.0</td>\n",
              "      <td>2</td>\n",
              "    </tr>\n",
              "    <tr>\n",
              "      <th>9625</th>\n",
              "      <td>Local-gov</td>\n",
              "      <td>Bachelors</td>\n",
              "      <td>Prof-specialty</td>\n",
              "      <td>0</td>\n",
              "      <td>0</td>\n",
              "      <td>40</td>\n",
              "      <td>United-States</td>\n",
              "      <td>12.0</td>\n",
              "      <td>5.0</td>\n",
              "      <td>9</td>\n",
              "    </tr>\n",
              "  </tbody>\n",
              "</table>\n",
              "</div>"
            ],
            "text/plain": [
              "        workclass     education       occupation  capital-gain  capital-loss  \\\n",
              "234       Private   Prof-school   Prof-specialty             0             0   \n",
              "26879     Private       HS-grad     Craft-repair             0             0   \n",
              "19182     Private       HS-grad    Other-service             0             0   \n",
              "13485     Private       HS-grad     Craft-repair             0             0   \n",
              "9625    Local-gov     Bachelors   Prof-specialty             0             0   \n",
              "\n",
              "       hours-per-week         country  education_e  workclass_e  occupation_e  \n",
              "234                55   United-States         15.0          7.0             9  \n",
              "26879              40          Taiwan          8.0          7.0             2  \n",
              "19182              50         Germany          8.0          7.0             7  \n",
              "13485              45   United-States          8.0          7.0             2  \n",
              "9625               40   United-States         12.0          5.0             9  "
            ]
          },
          "execution_count": 54,
          "metadata": {},
          "output_type": "execute_result"
        }
      ],
      "source": [
        "X_test.head()"
      ]
    },
    {
      "cell_type": "code",
      "execution_count": 55,
      "metadata": {
        "id": "WWSfCwK7RhE5"
      },
      "outputs": [],
      "source": [
        "encoder4=LabelEncoder()\n",
        "X_train['country_e']=encoder4.fit_transform(X_train['country'])\n",
        "X_test['country_e']=encoder4.transform(X_test['country'])"
      ]
    },
    {
      "cell_type": "code",
      "execution_count": 56,
      "metadata": {
        "colab": {
          "base_uri": "https://localhost:8080/",
          "height": 354
        },
        "id": "nBFK5ExGiKds",
        "outputId": "98890215-b3b3-41b3-a252-d10046a5237b"
      },
      "outputs": [
        {
          "data": {
            "text/html": [
              "<div>\n",
              "<style scoped>\n",
              "    .dataframe tbody tr th:only-of-type {\n",
              "        vertical-align: middle;\n",
              "    }\n",
              "\n",
              "    .dataframe tbody tr th {\n",
              "        vertical-align: top;\n",
              "    }\n",
              "\n",
              "    .dataframe thead th {\n",
              "        text-align: right;\n",
              "    }\n",
              "</style>\n",
              "<table border=\"1\" class=\"dataframe\">\n",
              "  <thead>\n",
              "    <tr style=\"text-align: right;\">\n",
              "      <th></th>\n",
              "      <th>workclass</th>\n",
              "      <th>education</th>\n",
              "      <th>occupation</th>\n",
              "      <th>capital-gain</th>\n",
              "      <th>capital-loss</th>\n",
              "      <th>hours-per-week</th>\n",
              "      <th>country</th>\n",
              "      <th>education_e</th>\n",
              "      <th>workclass_e</th>\n",
              "      <th>occupation_e</th>\n",
              "      <th>country_e</th>\n",
              "    </tr>\n",
              "  </thead>\n",
              "  <tbody>\n",
              "    <tr>\n",
              "      <th>29253</th>\n",
              "      <td>Private</td>\n",
              "      <td>HS-grad</td>\n",
              "      <td>Craft-repair</td>\n",
              "      <td>0</td>\n",
              "      <td>0</td>\n",
              "      <td>40</td>\n",
              "      <td>United-States</td>\n",
              "      <td>8.0</td>\n",
              "      <td>7.0</td>\n",
              "      <td>2</td>\n",
              "      <td>38</td>\n",
              "    </tr>\n",
              "    <tr>\n",
              "      <th>14267</th>\n",
              "      <td>Private</td>\n",
              "      <td>HS-grad</td>\n",
              "      <td>Handlers-cleaners</td>\n",
              "      <td>0</td>\n",
              "      <td>0</td>\n",
              "      <td>40</td>\n",
              "      <td>United-States</td>\n",
              "      <td>8.0</td>\n",
              "      <td>7.0</td>\n",
              "      <td>5</td>\n",
              "      <td>38</td>\n",
              "    </tr>\n",
              "    <tr>\n",
              "      <th>26021</th>\n",
              "      <td>Private</td>\n",
              "      <td>Bachelors</td>\n",
              "      <td>Exec-managerial</td>\n",
              "      <td>0</td>\n",
              "      <td>0</td>\n",
              "      <td>60</td>\n",
              "      <td>United-States</td>\n",
              "      <td>12.0</td>\n",
              "      <td>7.0</td>\n",
              "      <td>3</td>\n",
              "      <td>38</td>\n",
              "    </tr>\n",
              "    <tr>\n",
              "      <th>24278</th>\n",
              "      <td>Private</td>\n",
              "      <td>HS-grad</td>\n",
              "      <td>Other-service</td>\n",
              "      <td>0</td>\n",
              "      <td>0</td>\n",
              "      <td>32</td>\n",
              "      <td>United-States</td>\n",
              "      <td>8.0</td>\n",
              "      <td>7.0</td>\n",
              "      <td>7</td>\n",
              "      <td>38</td>\n",
              "    </tr>\n",
              "    <tr>\n",
              "      <th>4225</th>\n",
              "      <td>Self-emp-inc</td>\n",
              "      <td>HS-grad</td>\n",
              "      <td>Adm-clerical</td>\n",
              "      <td>0</td>\n",
              "      <td>0</td>\n",
              "      <td>38</td>\n",
              "      <td>United-States</td>\n",
              "      <td>8.0</td>\n",
              "      <td>3.0</td>\n",
              "      <td>0</td>\n",
              "      <td>38</td>\n",
              "    </tr>\n",
              "  </tbody>\n",
              "</table>\n",
              "</div>"
            ],
            "text/plain": [
              "           workclass   education          occupation  capital-gain  \\\n",
              "29253        Private     HS-grad        Craft-repair             0   \n",
              "14267        Private     HS-grad   Handlers-cleaners             0   \n",
              "26021        Private   Bachelors     Exec-managerial             0   \n",
              "24278        Private     HS-grad       Other-service             0   \n",
              "4225    Self-emp-inc     HS-grad        Adm-clerical             0   \n",
              "\n",
              "       capital-loss  hours-per-week         country  education_e  workclass_e  \\\n",
              "29253             0              40   United-States          8.0          7.0   \n",
              "14267             0              40   United-States          8.0          7.0   \n",
              "26021             0              60   United-States         12.0          7.0   \n",
              "24278             0              32   United-States          8.0          7.0   \n",
              "4225              0              38   United-States          8.0          3.0   \n",
              "\n",
              "       occupation_e  country_e  \n",
              "29253             2         38  \n",
              "14267             5         38  \n",
              "26021             3         38  \n",
              "24278             7         38  \n",
              "4225              0         38  "
            ]
          },
          "execution_count": 56,
          "metadata": {},
          "output_type": "execute_result"
        }
      ],
      "source": [
        "X_train.head()"
      ]
    },
    {
      "cell_type": "code",
      "execution_count": 57,
      "metadata": {
        "id": "s9fyLU63iKNy"
      },
      "outputs": [],
      "source": [
        "X_train.drop('workclass',axis=1,inplace= True)"
      ]
    },
    {
      "cell_type": "code",
      "execution_count": 58,
      "metadata": {
        "id": "TAY4Q_FwiKHD"
      },
      "outputs": [],
      "source": [
        "X_train.drop('education',axis=1,inplace= True)\n",
        "X_train.drop('occupation',axis=1,inplace= True)\n",
        "X_train.drop('country',axis=1,inplace= True)\n",
        "\n"
      ]
    },
    {
      "cell_type": "code",
      "execution_count": 59,
      "metadata": {
        "colab": {
          "base_uri": "https://localhost:8080/",
          "height": 206
        },
        "id": "QoAQE8criKA0",
        "outputId": "aca26192-cdb0-4b78-c3be-769f724eb157"
      },
      "outputs": [
        {
          "data": {
            "text/html": [
              "<div>\n",
              "<style scoped>\n",
              "    .dataframe tbody tr th:only-of-type {\n",
              "        vertical-align: middle;\n",
              "    }\n",
              "\n",
              "    .dataframe tbody tr th {\n",
              "        vertical-align: top;\n",
              "    }\n",
              "\n",
              "    .dataframe thead th {\n",
              "        text-align: right;\n",
              "    }\n",
              "</style>\n",
              "<table border=\"1\" class=\"dataframe\">\n",
              "  <thead>\n",
              "    <tr style=\"text-align: right;\">\n",
              "      <th></th>\n",
              "      <th>capital-gain</th>\n",
              "      <th>capital-loss</th>\n",
              "      <th>hours-per-week</th>\n",
              "      <th>education_e</th>\n",
              "      <th>workclass_e</th>\n",
              "      <th>occupation_e</th>\n",
              "      <th>country_e</th>\n",
              "    </tr>\n",
              "  </thead>\n",
              "  <tbody>\n",
              "    <tr>\n",
              "      <th>29253</th>\n",
              "      <td>0</td>\n",
              "      <td>0</td>\n",
              "      <td>40</td>\n",
              "      <td>8.0</td>\n",
              "      <td>7.0</td>\n",
              "      <td>2</td>\n",
              "      <td>38</td>\n",
              "    </tr>\n",
              "    <tr>\n",
              "      <th>14267</th>\n",
              "      <td>0</td>\n",
              "      <td>0</td>\n",
              "      <td>40</td>\n",
              "      <td>8.0</td>\n",
              "      <td>7.0</td>\n",
              "      <td>5</td>\n",
              "      <td>38</td>\n",
              "    </tr>\n",
              "    <tr>\n",
              "      <th>26021</th>\n",
              "      <td>0</td>\n",
              "      <td>0</td>\n",
              "      <td>60</td>\n",
              "      <td>12.0</td>\n",
              "      <td>7.0</td>\n",
              "      <td>3</td>\n",
              "      <td>38</td>\n",
              "    </tr>\n",
              "    <tr>\n",
              "      <th>24278</th>\n",
              "      <td>0</td>\n",
              "      <td>0</td>\n",
              "      <td>32</td>\n",
              "      <td>8.0</td>\n",
              "      <td>7.0</td>\n",
              "      <td>7</td>\n",
              "      <td>38</td>\n",
              "    </tr>\n",
              "    <tr>\n",
              "      <th>4225</th>\n",
              "      <td>0</td>\n",
              "      <td>0</td>\n",
              "      <td>38</td>\n",
              "      <td>8.0</td>\n",
              "      <td>3.0</td>\n",
              "      <td>0</td>\n",
              "      <td>38</td>\n",
              "    </tr>\n",
              "  </tbody>\n",
              "</table>\n",
              "</div>"
            ],
            "text/plain": [
              "       capital-gain  capital-loss  hours-per-week  education_e  workclass_e  \\\n",
              "29253             0             0              40          8.0          7.0   \n",
              "14267             0             0              40          8.0          7.0   \n",
              "26021             0             0              60         12.0          7.0   \n",
              "24278             0             0              32          8.0          7.0   \n",
              "4225              0             0              38          8.0          3.0   \n",
              "\n",
              "       occupation_e  country_e  \n",
              "29253             2         38  \n",
              "14267             5         38  \n",
              "26021             3         38  \n",
              "24278             7         38  \n",
              "4225              0         38  "
            ]
          },
          "execution_count": 59,
          "metadata": {},
          "output_type": "execute_result"
        }
      ],
      "source": [
        "X_train.head()"
      ]
    },
    {
      "cell_type": "code",
      "execution_count": 60,
      "metadata": {
        "id": "v5lnc1sjiJ_G"
      },
      "outputs": [],
      "source": [
        "X_test.drop('workclass',axis=1,inplace= True)\n",
        "X_test.drop('education',axis=1,inplace= True)\n",
        "X_test.drop('occupation',axis=1,inplace= True)\n",
        "X_test.drop('country',axis=1,inplace= True)\n",
        "\n"
      ]
    },
    {
      "cell_type": "code",
      "execution_count": 61,
      "metadata": {
        "colab": {
          "base_uri": "https://localhost:8080/",
          "height": 206
        },
        "id": "Pw6nSQ2KRg__",
        "outputId": "c7586b75-e341-46e4-963d-bf6b9cfa48c3"
      },
      "outputs": [
        {
          "data": {
            "text/html": [
              "<div>\n",
              "<style scoped>\n",
              "    .dataframe tbody tr th:only-of-type {\n",
              "        vertical-align: middle;\n",
              "    }\n",
              "\n",
              "    .dataframe tbody tr th {\n",
              "        vertical-align: top;\n",
              "    }\n",
              "\n",
              "    .dataframe thead th {\n",
              "        text-align: right;\n",
              "    }\n",
              "</style>\n",
              "<table border=\"1\" class=\"dataframe\">\n",
              "  <thead>\n",
              "    <tr style=\"text-align: right;\">\n",
              "      <th></th>\n",
              "      <th>capital-gain</th>\n",
              "      <th>capital-loss</th>\n",
              "      <th>hours-per-week</th>\n",
              "      <th>education_e</th>\n",
              "      <th>workclass_e</th>\n",
              "      <th>occupation_e</th>\n",
              "      <th>country_e</th>\n",
              "    </tr>\n",
              "  </thead>\n",
              "  <tbody>\n",
              "    <tr>\n",
              "      <th>234</th>\n",
              "      <td>0</td>\n",
              "      <td>0</td>\n",
              "      <td>55</td>\n",
              "      <td>15.0</td>\n",
              "      <td>7.0</td>\n",
              "      <td>9</td>\n",
              "      <td>38</td>\n",
              "    </tr>\n",
              "    <tr>\n",
              "      <th>26879</th>\n",
              "      <td>0</td>\n",
              "      <td>0</td>\n",
              "      <td>40</td>\n",
              "      <td>8.0</td>\n",
              "      <td>7.0</td>\n",
              "      <td>2</td>\n",
              "      <td>35</td>\n",
              "    </tr>\n",
              "    <tr>\n",
              "      <th>19182</th>\n",
              "      <td>0</td>\n",
              "      <td>0</td>\n",
              "      <td>50</td>\n",
              "      <td>8.0</td>\n",
              "      <td>7.0</td>\n",
              "      <td>7</td>\n",
              "      <td>10</td>\n",
              "    </tr>\n",
              "    <tr>\n",
              "      <th>13485</th>\n",
              "      <td>0</td>\n",
              "      <td>0</td>\n",
              "      <td>45</td>\n",
              "      <td>8.0</td>\n",
              "      <td>7.0</td>\n",
              "      <td>2</td>\n",
              "      <td>38</td>\n",
              "    </tr>\n",
              "    <tr>\n",
              "      <th>9625</th>\n",
              "      <td>0</td>\n",
              "      <td>0</td>\n",
              "      <td>40</td>\n",
              "      <td>12.0</td>\n",
              "      <td>5.0</td>\n",
              "      <td>9</td>\n",
              "      <td>38</td>\n",
              "    </tr>\n",
              "  </tbody>\n",
              "</table>\n",
              "</div>"
            ],
            "text/plain": [
              "       capital-gain  capital-loss  hours-per-week  education_e  workclass_e  \\\n",
              "234               0             0              55         15.0          7.0   \n",
              "26879             0             0              40          8.0          7.0   \n",
              "19182             0             0              50          8.0          7.0   \n",
              "13485             0             0              45          8.0          7.0   \n",
              "9625              0             0              40         12.0          5.0   \n",
              "\n",
              "       occupation_e  country_e  \n",
              "234               9         38  \n",
              "26879             2         35  \n",
              "19182             7         10  \n",
              "13485             2         38  \n",
              "9625              9         38  "
            ]
          },
          "execution_count": 61,
          "metadata": {},
          "output_type": "execute_result"
        }
      ],
      "source": [
        "X_test.head()"
      ]
    },
    {
      "cell_type": "code",
      "execution_count": 62,
      "metadata": {
        "colab": {
          "base_uri": "https://localhost:8080/",
          "height": 206
        },
        "id": "vEhhczDiMttS",
        "outputId": "8e4f2f7a-2241-4b94-c251-658a47a999dd"
      },
      "outputs": [
        {
          "data": {
            "text/html": [
              "<div>\n",
              "<style scoped>\n",
              "    .dataframe tbody tr th:only-of-type {\n",
              "        vertical-align: middle;\n",
              "    }\n",
              "\n",
              "    .dataframe tbody tr th {\n",
              "        vertical-align: top;\n",
              "    }\n",
              "\n",
              "    .dataframe thead th {\n",
              "        text-align: right;\n",
              "    }\n",
              "</style>\n",
              "<table border=\"1\" class=\"dataframe\">\n",
              "  <thead>\n",
              "    <tr style=\"text-align: right;\">\n",
              "      <th></th>\n",
              "      <th>salary</th>\n",
              "    </tr>\n",
              "  </thead>\n",
              "  <tbody>\n",
              "    <tr>\n",
              "      <th>29253</th>\n",
              "      <td>&gt;50K</td>\n",
              "    </tr>\n",
              "    <tr>\n",
              "      <th>14267</th>\n",
              "      <td>&lt;=50K</td>\n",
              "    </tr>\n",
              "    <tr>\n",
              "      <th>26021</th>\n",
              "      <td>&gt;50K</td>\n",
              "    </tr>\n",
              "    <tr>\n",
              "      <th>24278</th>\n",
              "      <td>&lt;=50K</td>\n",
              "    </tr>\n",
              "    <tr>\n",
              "      <th>4225</th>\n",
              "      <td>&lt;=50K</td>\n",
              "    </tr>\n",
              "  </tbody>\n",
              "</table>\n",
              "</div>"
            ],
            "text/plain": [
              "       salary\n",
              "29253    >50K\n",
              "14267   <=50K\n",
              "26021    >50K\n",
              "24278   <=50K\n",
              "4225    <=50K"
            ]
          },
          "execution_count": 62,
          "metadata": {},
          "output_type": "execute_result"
        }
      ],
      "source": [
        "Y_train.head()"
      ]
    },
    {
      "cell_type": "code",
      "execution_count": 63,
      "metadata": {
        "id": "BRvjGrqARguC"
      },
      "outputs": [],
      "source": [
        "encoder5=LabelEncoder()\n",
        "Y_train['salary_e']=encoder5.fit_transform(Y_train['salary'])\n",
        "Y_test['salary_e']=encoder5.transform(Y_test['salary'])"
      ]
    },
    {
      "cell_type": "code",
      "execution_count": 64,
      "metadata": {
        "colab": {
          "base_uri": "https://localhost:8080/",
          "height": 206
        },
        "id": "kGTzAB1OCuOa",
        "outputId": "92963591-da70-47da-da7c-3b35e78bd4cc"
      },
      "outputs": [
        {
          "data": {
            "text/html": [
              "<div>\n",
              "<style scoped>\n",
              "    .dataframe tbody tr th:only-of-type {\n",
              "        vertical-align: middle;\n",
              "    }\n",
              "\n",
              "    .dataframe tbody tr th {\n",
              "        vertical-align: top;\n",
              "    }\n",
              "\n",
              "    .dataframe thead th {\n",
              "        text-align: right;\n",
              "    }\n",
              "</style>\n",
              "<table border=\"1\" class=\"dataframe\">\n",
              "  <thead>\n",
              "    <tr style=\"text-align: right;\">\n",
              "      <th></th>\n",
              "      <th>salary</th>\n",
              "      <th>salary_e</th>\n",
              "    </tr>\n",
              "  </thead>\n",
              "  <tbody>\n",
              "    <tr>\n",
              "      <th>29253</th>\n",
              "      <td>&gt;50K</td>\n",
              "      <td>1</td>\n",
              "    </tr>\n",
              "    <tr>\n",
              "      <th>14267</th>\n",
              "      <td>&lt;=50K</td>\n",
              "      <td>0</td>\n",
              "    </tr>\n",
              "    <tr>\n",
              "      <th>26021</th>\n",
              "      <td>&gt;50K</td>\n",
              "      <td>1</td>\n",
              "    </tr>\n",
              "    <tr>\n",
              "      <th>24278</th>\n",
              "      <td>&lt;=50K</td>\n",
              "      <td>0</td>\n",
              "    </tr>\n",
              "    <tr>\n",
              "      <th>4225</th>\n",
              "      <td>&lt;=50K</td>\n",
              "      <td>0</td>\n",
              "    </tr>\n",
              "  </tbody>\n",
              "</table>\n",
              "</div>"
            ],
            "text/plain": [
              "       salary  salary_e\n",
              "29253    >50K         1\n",
              "14267   <=50K         0\n",
              "26021    >50K         1\n",
              "24278   <=50K         0\n",
              "4225    <=50K         0"
            ]
          },
          "execution_count": 64,
          "metadata": {},
          "output_type": "execute_result"
        }
      ],
      "source": [
        "Y_train.head()"
      ]
    },
    {
      "cell_type": "code",
      "execution_count": 65,
      "metadata": {
        "colab": {
          "base_uri": "https://localhost:8080/",
          "height": 206
        },
        "id": "3N-a7WxILVQ5",
        "outputId": "aec96cc9-4639-40fb-f405-4c26ef37e831"
      },
      "outputs": [
        {
          "data": {
            "text/html": [
              "<div>\n",
              "<style scoped>\n",
              "    .dataframe tbody tr th:only-of-type {\n",
              "        vertical-align: middle;\n",
              "    }\n",
              "\n",
              "    .dataframe tbody tr th {\n",
              "        vertical-align: top;\n",
              "    }\n",
              "\n",
              "    .dataframe thead th {\n",
              "        text-align: right;\n",
              "    }\n",
              "</style>\n",
              "<table border=\"1\" class=\"dataframe\">\n",
              "  <thead>\n",
              "    <tr style=\"text-align: right;\">\n",
              "      <th></th>\n",
              "      <th>salary</th>\n",
              "      <th>salary_e</th>\n",
              "    </tr>\n",
              "  </thead>\n",
              "  <tbody>\n",
              "    <tr>\n",
              "      <th>234</th>\n",
              "      <td>&gt;50K</td>\n",
              "      <td>1</td>\n",
              "    </tr>\n",
              "    <tr>\n",
              "      <th>26879</th>\n",
              "      <td>&lt;=50K</td>\n",
              "      <td>0</td>\n",
              "    </tr>\n",
              "    <tr>\n",
              "      <th>19182</th>\n",
              "      <td>&gt;50K</td>\n",
              "      <td>1</td>\n",
              "    </tr>\n",
              "    <tr>\n",
              "      <th>13485</th>\n",
              "      <td>&lt;=50K</td>\n",
              "      <td>0</td>\n",
              "    </tr>\n",
              "    <tr>\n",
              "      <th>9625</th>\n",
              "      <td>&lt;=50K</td>\n",
              "      <td>0</td>\n",
              "    </tr>\n",
              "  </tbody>\n",
              "</table>\n",
              "</div>"
            ],
            "text/plain": [
              "       salary  salary_e\n",
              "234      >50K         1\n",
              "26879   <=50K         0\n",
              "19182    >50K         1\n",
              "13485   <=50K         0\n",
              "9625    <=50K         0"
            ]
          },
          "execution_count": 65,
          "metadata": {},
          "output_type": "execute_result"
        }
      ],
      "source": [
        "Y_test.head()"
      ]
    },
    {
      "cell_type": "code",
      "execution_count": 66,
      "metadata": {
        "id": "nJmZ4LCQLVLB"
      },
      "outputs": [],
      "source": [
        "Y_train.drop('salary',axis=1,inplace=True)\n",
        "Y_test.drop('salary',axis=1,inplace=True)"
      ]
    },
    {
      "cell_type": "code",
      "execution_count": 67,
      "metadata": {
        "colab": {
          "base_uri": "https://localhost:8080/",
          "height": 206
        },
        "id": "lzj--KuhP8j7",
        "outputId": "57053f86-8cfa-4ba7-8c66-3fe0c2d53495"
      },
      "outputs": [
        {
          "data": {
            "text/html": [
              "<div>\n",
              "<style scoped>\n",
              "    .dataframe tbody tr th:only-of-type {\n",
              "        vertical-align: middle;\n",
              "    }\n",
              "\n",
              "    .dataframe tbody tr th {\n",
              "        vertical-align: top;\n",
              "    }\n",
              "\n",
              "    .dataframe thead th {\n",
              "        text-align: right;\n",
              "    }\n",
              "</style>\n",
              "<table border=\"1\" class=\"dataframe\">\n",
              "  <thead>\n",
              "    <tr style=\"text-align: right;\">\n",
              "      <th></th>\n",
              "      <th>salary_e</th>\n",
              "    </tr>\n",
              "  </thead>\n",
              "  <tbody>\n",
              "    <tr>\n",
              "      <th>29253</th>\n",
              "      <td>1</td>\n",
              "    </tr>\n",
              "    <tr>\n",
              "      <th>14267</th>\n",
              "      <td>0</td>\n",
              "    </tr>\n",
              "    <tr>\n",
              "      <th>26021</th>\n",
              "      <td>1</td>\n",
              "    </tr>\n",
              "    <tr>\n",
              "      <th>24278</th>\n",
              "      <td>0</td>\n",
              "    </tr>\n",
              "    <tr>\n",
              "      <th>4225</th>\n",
              "      <td>0</td>\n",
              "    </tr>\n",
              "  </tbody>\n",
              "</table>\n",
              "</div>"
            ],
            "text/plain": [
              "       salary_e\n",
              "29253         1\n",
              "14267         0\n",
              "26021         1\n",
              "24278         0\n",
              "4225          0"
            ]
          },
          "execution_count": 67,
          "metadata": {},
          "output_type": "execute_result"
        }
      ],
      "source": [
        "Y_train.head()"
      ]
    },
    {
      "cell_type": "code",
      "execution_count": null,
      "metadata": {
        "id": "uB5E6caLP8VK"
      },
      "outputs": [],
      "source": []
    },
    {
      "cell_type": "markdown",
      "metadata": {
        "id": "huhuMoUJQr4K"
      },
      "source": [
        "decission tree"
      ]
    },
    {
      "cell_type": "code",
      "execution_count": 68,
      "metadata": {
        "id": "NMejmIyqCuEv"
      },
      "outputs": [],
      "source": [
        "from sklearn.tree import DecisionTreeClassifier\n",
        "\n",
        "treemodel = DecisionTreeClassifier(class_weight=\"balanced\")\n",
        "treemodel.fit(X_train, Y_train)\n",
        "ans1 = treemodel.predict(X_test)"
      ]
    },
    {
      "cell_type": "code",
      "execution_count": 69,
      "metadata": {
        "colab": {
          "base_uri": "https://localhost:8080/"
        },
        "id": "FxFjByeBCt9e",
        "outputId": "200b72fb-5851-48ba-f1e6-90881852c7c6"
      },
      "outputs": [
        {
          "data": {
            "text/plain": [
              "0.7407448336832799"
            ]
          },
          "execution_count": 69,
          "metadata": {},
          "output_type": "execute_result"
        }
      ],
      "source": [
        "from sklearn.metrics import accuracy_score\n",
        "score1 = accuracy_score(Y_test, ans1)\n",
        "score1\n"
      ]
    },
    {
      "cell_type": "code",
      "execution_count": 71,
      "metadata": {
        "colab": {
          "base_uri": "https://localhost:8080/"
        },
        "id": "cIRDXCvMUtGS",
        "outputId": "b93330d3-0cf9-42b9-f08b-e6980b443edf"
      },
      "outputs": [
        {
          "data": {
            "text/plain": [
              "array([[5114, 1653],\n",
              "       [ 693, 1589]], dtype=int64)"
            ]
          },
          "execution_count": 71,
          "metadata": {},
          "output_type": "execute_result"
        }
      ],
      "source": [
        "from sklearn.metrics import confusion_matrix\n",
        "confusion_matrix(Y_test,ans1)"
      ]
    },
    {
      "cell_type": "code",
      "execution_count": null,
      "metadata": {
        "colab": {
          "base_uri": "https://localhost:8080/",
          "height": 206
        },
        "id": "mHafPGq0Ws2C",
        "outputId": "6b96e75b-95e1-4ff6-e9c0-dc7bcdb94c93"
      },
      "outputs": [],
      "source": []
    },
    {
      "cell_type": "code",
      "execution_count": 72,
      "metadata": {
        "id": "k4RD1GgjXZ1D"
      },
      "outputs": [],
      "source": [
        "combined_data = pd.concat([X_train, X_test], ignore_index=True)"
      ]
    },
    {
      "cell_type": "code",
      "execution_count": 73,
      "metadata": {
        "colab": {
          "base_uri": "https://localhost:8080/"
        },
        "id": "K8yARWKHXfjS",
        "outputId": "1841d5b9-185c-4da7-db70-43ca8c2a3c4b"
      },
      "outputs": [
        {
          "data": {
            "text/plain": [
              "30162"
            ]
          },
          "execution_count": 73,
          "metadata": {},
          "output_type": "execute_result"
        }
      ],
      "source": [
        "len(combined_data)"
      ]
    },
    {
      "cell_type": "code",
      "execution_count": 74,
      "metadata": {
        "id": "PMjErvFUXqFC"
      },
      "outputs": [],
      "source": [
        "combined_y = pd.concat([Y_train, Y_test], ignore_index=True)"
      ]
    },
    {
      "cell_type": "code",
      "execution_count": 75,
      "metadata": {
        "colab": {
          "base_uri": "https://localhost:8080/"
        },
        "id": "5avu-PmiXwhL",
        "outputId": "95e137d3-54e2-4c76-fc4e-179107136dbf"
      },
      "outputs": [
        {
          "data": {
            "text/plain": [
              "30162"
            ]
          },
          "execution_count": 75,
          "metadata": {},
          "output_type": "execute_result"
        }
      ],
      "source": [
        "len(combined_y)"
      ]
    },
    {
      "cell_type": "code",
      "execution_count": 76,
      "metadata": {
        "colab": {
          "base_uri": "https://localhost:8080/"
        },
        "id": "G96aSYtpU7Y8",
        "outputId": "d00e4664-c25c-4fa9-9835-7aa88bc3e580"
      },
      "outputs": [
        {
          "data": {
            "text/plain": [
              "array([0.74788662, 0.7505387 , 0.74900531, 0.72645889, 0.74867374])"
            ]
          },
          "execution_count": 76,
          "metadata": {},
          "output_type": "execute_result"
        }
      ],
      "source": [
        "from sklearn.model_selection import cross_val_score\n",
        "cross_val_score(treemodel,combined_data,combined_y)\n"
      ]
    },
    {
      "cell_type": "code",
      "execution_count": null,
      "metadata": {
        "id": "aa1Ucw-BV4CK"
      },
      "outputs": [],
      "source": []
    },
    {
      "cell_type": "code",
      "execution_count": null,
      "metadata": {
        "id": "O7FKgiKXV387"
      },
      "outputs": [],
      "source": []
    },
    {
      "cell_type": "markdown",
      "metadata": {
        "id": "QaAg3_wfQu1p"
      },
      "source": [
        "SVC"
      ]
    },
    {
      "cell_type": "code",
      "execution_count": 77,
      "metadata": {
        "colab": {
          "base_uri": "https://localhost:8080/"
        },
        "id": "6w47nArDCt3D",
        "outputId": "d9b5af8c-23c1-42b9-db2d-7c5e2ec68a36"
      },
      "outputs": [
        {
          "name": "stderr",
          "output_type": "stream",
          "text": [
            "d:\\github file\\Aduit income predicion\\Audit_income_prediction\\auditenv\\lib\\site-packages\\sklearn\\utils\\validation.py:1184: DataConversionWarning: A column-vector y was passed when a 1d array was expected. Please change the shape of y to (n_samples, ), for example using ravel().\n",
            "  y = column_or_1d(y, warn=True)\n"
          ]
        }
      ],
      "source": [
        "from sklearn.svm import SVC\n",
        "\n",
        "svcmodel = SVC(class_weight=\"balanced\")\n",
        "svcmodel.fit(X_train, Y_train)\n",
        "ans3 = svcmodel.predict(X_test)"
      ]
    },
    {
      "cell_type": "code",
      "execution_count": 78,
      "metadata": {
        "colab": {
          "base_uri": "https://localhost:8080/"
        },
        "id": "RsU3Bn_-CtwO",
        "outputId": "7b720298-b407-4364-c678-85a298fb03af"
      },
      "outputs": [
        {
          "data": {
            "text/plain": [
              "79.2794783954028"
            ]
          },
          "execution_count": 78,
          "metadata": {},
          "output_type": "execute_result"
        }
      ],
      "source": [
        "score = accuracy_score(Y_test, ans3)\n",
        "score*100"
      ]
    },
    {
      "cell_type": "code",
      "execution_count": 79,
      "metadata": {
        "colab": {
          "base_uri": "https://localhost:8080/"
        },
        "id": "4CWYH589UywC",
        "outputId": "5ee4e0d5-9fe1-4518-aa1e-f227098ab35b"
      },
      "outputs": [
        {
          "data": {
            "text/plain": [
              "array([[6500,  267],\n",
              "       [1608,  674]], dtype=int64)"
            ]
          },
          "execution_count": 79,
          "metadata": {},
          "output_type": "execute_result"
        }
      ],
      "source": [
        "confusion_matrix(Y_test,ans3)"
      ]
    },
    {
      "cell_type": "code",
      "execution_count": 80,
      "metadata": {
        "colab": {
          "base_uri": "https://localhost:8080/"
        },
        "id": "E8kmm1vIX6jj",
        "outputId": "8a6b8393-83bb-4a97-b4c4-bc04f3d92943"
      },
      "outputs": [
        {
          "name": "stderr",
          "output_type": "stream",
          "text": [
            "d:\\github file\\Aduit income predicion\\Audit_income_prediction\\auditenv\\lib\\site-packages\\sklearn\\utils\\validation.py:1184: DataConversionWarning: A column-vector y was passed when a 1d array was expected. Please change the shape of y to (n_samples, ), for example using ravel().\n",
            "  y = column_or_1d(y, warn=True)\n",
            "d:\\github file\\Aduit income predicion\\Audit_income_prediction\\auditenv\\lib\\site-packages\\sklearn\\utils\\validation.py:1184: DataConversionWarning: A column-vector y was passed when a 1d array was expected. Please change the shape of y to (n_samples, ), for example using ravel().\n",
            "  y = column_or_1d(y, warn=True)\n",
            "d:\\github file\\Aduit income predicion\\Audit_income_prediction\\auditenv\\lib\\site-packages\\sklearn\\utils\\validation.py:1184: DataConversionWarning: A column-vector y was passed when a 1d array was expected. Please change the shape of y to (n_samples, ), for example using ravel().\n",
            "  y = column_or_1d(y, warn=True)\n",
            "d:\\github file\\Aduit income predicion\\Audit_income_prediction\\auditenv\\lib\\site-packages\\sklearn\\utils\\validation.py:1184: DataConversionWarning: A column-vector y was passed when a 1d array was expected. Please change the shape of y to (n_samples, ), for example using ravel().\n",
            "  y = column_or_1d(y, warn=True)\n",
            "d:\\github file\\Aduit income predicion\\Audit_income_prediction\\auditenv\\lib\\site-packages\\sklearn\\utils\\validation.py:1184: DataConversionWarning: A column-vector y was passed when a 1d array was expected. Please change the shape of y to (n_samples, ), for example using ravel().\n",
            "  y = column_or_1d(y, warn=True)\n"
          ]
        },
        {
          "data": {
            "text/plain": [
              "array([0.79164595, 0.80109398, 0.78365385, 0.79376658, 0.7926061 ])"
            ]
          },
          "execution_count": 80,
          "metadata": {},
          "output_type": "execute_result"
        }
      ],
      "source": [
        "cross_val_score(svcmodel,combined_data,combined_y)\n"
      ]
    },
    {
      "cell_type": "code",
      "execution_count": null,
      "metadata": {
        "id": "npCqw_XRUyBL"
      },
      "outputs": [],
      "source": []
    },
    {
      "cell_type": "markdown",
      "metadata": {
        "id": "uGPjhzQPRcCJ"
      },
      "source": [
        "random froest"
      ]
    },
    {
      "cell_type": "code",
      "execution_count": 81,
      "metadata": {
        "colab": {
          "base_uri": "https://localhost:8080/"
        },
        "id": "bDoxLKM0CtrC",
        "outputId": "7a2adc8d-c78f-40d3-8b87-366fc392840f"
      },
      "outputs": [
        {
          "name": "stderr",
          "output_type": "stream",
          "text": [
            "d:\\github file\\Aduit income predicion\\Audit_income_prediction\\auditenv\\lib\\site-packages\\sklearn\\base.py:1151: DataConversionWarning: A column-vector y was passed when a 1d array was expected. Please change the shape of y to (n_samples,), for example using ravel().\n",
            "  return fit_method(estimator, *args, **kwargs)\n"
          ]
        }
      ],
      "source": [
        "from sklearn.ensemble import RandomForestClassifier\n",
        "forestmodel = RandomForestClassifier(class_weight=\"balanced\")\n",
        "forestmodel.fit(X_train, Y_train)\n",
        "ans4 = forestmodel.predict(X_test)"
      ]
    },
    {
      "cell_type": "code",
      "execution_count": 82,
      "metadata": {
        "colab": {
          "base_uri": "https://localhost:8080/"
        },
        "id": "HYh3onGBRbdq",
        "outputId": "856926e4-da80-45c0-9f7e-6d957f4f08b0"
      },
      "outputs": [
        {
          "data": {
            "text/plain": [
              "77.14664603823627"
            ]
          },
          "execution_count": 82,
          "metadata": {},
          "output_type": "execute_result"
        }
      ],
      "source": [
        "score = accuracy_score(Y_test, ans4)\n",
        "score*100"
      ]
    },
    {
      "cell_type": "code",
      "execution_count": 83,
      "metadata": {
        "colab": {
          "base_uri": "https://localhost:8080/"
        },
        "id": "s577k8X-U2pu",
        "outputId": "0e17c6ac-a031-45e0-b8a7-2e3e60f33f9d"
      },
      "outputs": [
        {
          "data": {
            "text/plain": [
              "array([[5477, 1290],\n",
              "       [ 778, 1504]], dtype=int64)"
            ]
          },
          "execution_count": 83,
          "metadata": {},
          "output_type": "execute_result"
        }
      ],
      "source": [
        "confusion_matrix(Y_test,ans4)"
      ]
    },
    {
      "cell_type": "code",
      "execution_count": null,
      "metadata": {
        "colab": {
          "base_uri": "https://localhost:8080/"
        },
        "id": "_7YHo8CFYBlb",
        "outputId": "43f42586-3081-471f-ee8f-53cb3a68b1a8"
      },
      "outputs": [],
      "source": []
    },
    {
      "cell_type": "code",
      "execution_count": null,
      "metadata": {
        "id": "d3CeEphEU2m7"
      },
      "outputs": [],
      "source": []
    },
    {
      "cell_type": "markdown",
      "metadata": {
        "id": "XnKX0EesR_lj"
      },
      "source": [
        "XGboost"
      ]
    },
    {
      "cell_type": "code",
      "execution_count": 85,
      "metadata": {
        "id": "QRLYHZGvRbbA"
      },
      "outputs": [],
      "source": [
        "from xgboost import XGBClassifier\n",
        "xgmodel = XGBClassifier()\n",
        "xgmodel.fit(X_train, Y_train)\n",
        "ans5 = xgmodel.predict(X_test)"
      ]
    },
    {
      "cell_type": "code",
      "execution_count": 86,
      "metadata": {
        "colab": {
          "base_uri": "https://localhost:8080/"
        },
        "id": "1UsC_2GmRbYs",
        "outputId": "66315008-b161-4efa-d6ff-5e5ef08c4d2f"
      },
      "outputs": [
        {
          "data": {
            "text/plain": [
              "84.30765830478506"
            ]
          },
          "execution_count": 86,
          "metadata": {},
          "output_type": "execute_result"
        }
      ],
      "source": [
        "score = accuracy_score(Y_test, ans5)\n",
        "score*100"
      ]
    },
    {
      "cell_type": "code",
      "execution_count": 87,
      "metadata": {
        "colab": {
          "base_uri": "https://localhost:8080/"
        },
        "id": "_VbGhsiTRbWM",
        "outputId": "7b546e03-b9fd-424a-8fcc-6db7a2857f18"
      },
      "outputs": [
        {
          "data": {
            "text/plain": [
              "array([[6546,  221],\n",
              "       [1199, 1083]], dtype=int64)"
            ]
          },
          "execution_count": 87,
          "metadata": {},
          "output_type": "execute_result"
        }
      ],
      "source": [
        "confusion_matrix(Y_test,ans5)"
      ]
    },
    {
      "cell_type": "code",
      "execution_count": null,
      "metadata": {
        "colab": {
          "base_uri": "https://localhost:8080/"
        },
        "id": "bZAXyy3aRbT8",
        "outputId": "2f96233b-77a2-4871-e011-45e462c4fedb"
      },
      "outputs": [],
      "source": []
    },
    {
      "cell_type": "code",
      "execution_count": 88,
      "metadata": {
        "colab": {
          "base_uri": "https://localhost:8080/",
          "height": 206
        },
        "id": "YQnIjE3lRbRa",
        "outputId": "1f4c9077-2e45-43cd-f731-9e26632ed783"
      },
      "outputs": [
        {
          "data": {
            "text/html": [
              "<div>\n",
              "<style scoped>\n",
              "    .dataframe tbody tr th:only-of-type {\n",
              "        vertical-align: middle;\n",
              "    }\n",
              "\n",
              "    .dataframe tbody tr th {\n",
              "        vertical-align: top;\n",
              "    }\n",
              "\n",
              "    .dataframe thead th {\n",
              "        text-align: right;\n",
              "    }\n",
              "</style>\n",
              "<table border=\"1\" class=\"dataframe\">\n",
              "  <thead>\n",
              "    <tr style=\"text-align: right;\">\n",
              "      <th></th>\n",
              "      <th>capital-gain</th>\n",
              "      <th>capital-loss</th>\n",
              "      <th>hours-per-week</th>\n",
              "      <th>education_e</th>\n",
              "      <th>workclass_e</th>\n",
              "      <th>occupation_e</th>\n",
              "      <th>country_e</th>\n",
              "    </tr>\n",
              "  </thead>\n",
              "  <tbody>\n",
              "    <tr>\n",
              "      <th>29253</th>\n",
              "      <td>0</td>\n",
              "      <td>0</td>\n",
              "      <td>40</td>\n",
              "      <td>8.0</td>\n",
              "      <td>7.0</td>\n",
              "      <td>2</td>\n",
              "      <td>38</td>\n",
              "    </tr>\n",
              "    <tr>\n",
              "      <th>14267</th>\n",
              "      <td>0</td>\n",
              "      <td>0</td>\n",
              "      <td>40</td>\n",
              "      <td>8.0</td>\n",
              "      <td>7.0</td>\n",
              "      <td>5</td>\n",
              "      <td>38</td>\n",
              "    </tr>\n",
              "    <tr>\n",
              "      <th>26021</th>\n",
              "      <td>0</td>\n",
              "      <td>0</td>\n",
              "      <td>60</td>\n",
              "      <td>12.0</td>\n",
              "      <td>7.0</td>\n",
              "      <td>3</td>\n",
              "      <td>38</td>\n",
              "    </tr>\n",
              "    <tr>\n",
              "      <th>24278</th>\n",
              "      <td>0</td>\n",
              "      <td>0</td>\n",
              "      <td>32</td>\n",
              "      <td>8.0</td>\n",
              "      <td>7.0</td>\n",
              "      <td>7</td>\n",
              "      <td>38</td>\n",
              "    </tr>\n",
              "    <tr>\n",
              "      <th>4225</th>\n",
              "      <td>0</td>\n",
              "      <td>0</td>\n",
              "      <td>38</td>\n",
              "      <td>8.0</td>\n",
              "      <td>3.0</td>\n",
              "      <td>0</td>\n",
              "      <td>38</td>\n",
              "    </tr>\n",
              "  </tbody>\n",
              "</table>\n",
              "</div>"
            ],
            "text/plain": [
              "       capital-gain  capital-loss  hours-per-week  education_e  workclass_e  \\\n",
              "29253             0             0              40          8.0          7.0   \n",
              "14267             0             0              40          8.0          7.0   \n",
              "26021             0             0              60         12.0          7.0   \n",
              "24278             0             0              32          8.0          7.0   \n",
              "4225              0             0              38          8.0          3.0   \n",
              "\n",
              "       occupation_e  country_e  \n",
              "29253             2         38  \n",
              "14267             5         38  \n",
              "26021             3         38  \n",
              "24278             7         38  \n",
              "4225              0         38  "
            ]
          },
          "execution_count": 88,
          "metadata": {},
          "output_type": "execute_result"
        }
      ],
      "source": [
        "X_train.head()"
      ]
    },
    {
      "cell_type": "code",
      "execution_count": 89,
      "metadata": {
        "id": "0pKVMbwkRbOy"
      },
      "outputs": [],
      "source": [
        "import pickle\n",
        "pickle.dump(encoder1,open('encoder1.pkl','wb'))\n",
        "pickle.dump(encoder2,open('encoder2.pkl','wb'))\n",
        "pickle.dump(encoder3,open('encoder3.pkl','wb'))\n",
        "pickle.dump(encoder4,open('encoder4.pkl','wb'))\n",
        "pickle.dump(xgmodel,open('xgmodeling.pkl','wb'))"
      ]
    },
    {
      "cell_type": "code",
      "execution_count": null,
      "metadata": {
        "id": "qjxRnYPLRbMS"
      },
      "outputs": [],
      "source": []
    },
    {
      "cell_type": "code",
      "execution_count": null,
      "metadata": {
        "id": "gkQNBqItRbJz"
      },
      "outputs": [],
      "source": []
    },
    {
      "cell_type": "code",
      "execution_count": null,
      "metadata": {
        "id": "hVORbzEVRbHE"
      },
      "outputs": [],
      "source": []
    },
    {
      "cell_type": "code",
      "execution_count": null,
      "metadata": {
        "id": "kkiOHBbsRbCR"
      },
      "outputs": [],
      "source": []
    }
  ],
  "metadata": {
    "colab": {
      "provenance": [],
      "toc_visible": true
    },
    "kernelspec": {
      "display_name": "Python 3",
      "name": "python3"
    },
    "language_info": {
      "codemirror_mode": {
        "name": "ipython",
        "version": 3
      },
      "file_extension": ".py",
      "mimetype": "text/x-python",
      "name": "python",
      "nbconvert_exporter": "python",
      "pygments_lexer": "ipython3",
      "version": "3.10.11"
    }
  },
  "nbformat": 4,
  "nbformat_minor": 0
}
